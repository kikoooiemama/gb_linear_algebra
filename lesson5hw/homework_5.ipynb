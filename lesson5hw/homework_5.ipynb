{
 "cells": [
  {
   "cell_type": "markdown",
   "id": "8a821e5c",
   "metadata": {},
   "source": [
    "# Практическое задание №5 по теме \"Сингулярное разложение матриц\"."
   ]
  },
  {
   "cell_type": "code",
   "execution_count": 1,
   "id": "9864fe3f",
   "metadata": {},
   "outputs": [],
   "source": [
    "import numpy as np\n",
    "np.set_printoptions(precision=3, suppress=True)"
   ]
  },
  {
   "cell_type": "markdown",
   "id": "a9c13e3c",
   "metadata": {},
   "source": [
    "## Задание 1\n",
    "\n",
    "Найдите посредством NumPy SVD для матрицы:\n",
    "\n",
    "$$\\begin{pmatrix}\n",
    "1 & 2 & 0\\\\ \n",
    "0 & 0 & 5\\\\ \n",
    "3 & -4 & 2\\\\ \n",
    "1 & 6 & 5\\\\ \n",
    "0 & 1 & 0\n",
    "\\end{pmatrix}.$$"
   ]
  },
  {
   "cell_type": "markdown",
   "id": "50009758",
   "metadata": {},
   "source": [
    "___Решение___"
   ]
  },
  {
   "cell_type": "code",
   "execution_count": 2,
   "id": "f8aae7f8",
   "metadata": {},
   "outputs": [
    {
     "name": "stdout",
     "output_type": "stream",
     "text": [
      "Матрица A:\n",
      "[[ 1  2  0]\n",
      " [ 0  0  5]\n",
      " [ 3 -4  2]\n",
      " [ 1  6  5]\n",
      " [ 0  1  0]]\n"
     ]
    }
   ],
   "source": [
    "A = np.array([[1,2,0],\n",
    "              [0,0,5],\n",
    "              [3,-4,2],\n",
    "              [1,6,5],\n",
    "              [0,1,0]])\n",
    "print(f'Матрица A:\\n{A}')"
   ]
  },
  {
   "cell_type": "code",
   "execution_count": 3,
   "id": "2fde29a0",
   "metadata": {},
   "outputs": [],
   "source": [
    "# SVD\n",
    "U, s, W = np.linalg.svd(A)\n",
    "# Транспонируем матрицу W\n",
    "V = W.T\n",
    "# Создаем D из одномерного массива s\n",
    "D = np.zeros_like(A, dtype=float)\n",
    "D[np.diag_indices(min(A.shape))] = s"
   ]
  },
  {
   "cell_type": "code",
   "execution_count": 4,
   "id": "32292513",
   "metadata": {},
   "outputs": [
    {
     "name": "stdout",
     "output_type": "stream",
     "text": [
      "Матрица U:\n",
      "[[ 0.171  0.157 -0.531 -0.799 -0.162]\n",
      " [ 0.393 -0.529  0.613 -0.434  0.031]\n",
      " [-0.144 -0.824 -0.524  0.14   0.074]\n",
      " [ 0.888  0.061 -0.247  0.378 -0.06 ]\n",
      " [ 0.081  0.108 -0.082 -0.105  0.982]]\n",
      "Матрица D:\n",
      "[[8.825 0.    0.   ]\n",
      " [0.    6.141 0.   ]\n",
      " [0.    0.    2.533]\n",
      " [0.    0.    0.   ]\n",
      " [0.    0.    0.   ]]\n",
      "Матрица V:\n",
      "[[ 0.071 -0.367 -0.927]\n",
      " [ 0.717  0.665 -0.208]\n",
      " [ 0.693 -0.65   0.311]]\n"
     ]
    }
   ],
   "source": [
    "print(f'Матрица U:\\n{U}')\n",
    "print(f'Матрица D:\\n{D}')\n",
    "print(f'Матрица V:\\n{V}')"
   ]
  },
  {
   "cell_type": "markdown",
   "id": "c0d6c376",
   "metadata": {},
   "source": [
    "Проверка:"
   ]
  },
  {
   "cell_type": "code",
   "execution_count": 5,
   "id": "8f800c73",
   "metadata": {},
   "outputs": [
    {
     "name": "stdout",
     "output_type": "stream",
     "text": [
      "[[ 1.  2. -0.]\n",
      " [-0.  0.  5.]\n",
      " [ 3. -4.  2.]\n",
      " [ 1.  6.  5.]\n",
      " [ 0.  1.  0.]]\n"
     ]
    }
   ],
   "source": [
    "print(np.dot(np.dot(U, D), V.T))"
   ]
  },
  {
   "cell_type": "markdown",
   "id": "eb12853c",
   "metadata": {},
   "source": [
    "___Ответ:___\n",
    "\n",
    "$$U=\\begin{pmatrix}\n",
    "0.171 & 0.157 & -0.531 & -0.799 & -0.162\\\\\n",
    "0.393 & -0.529 &  0.613 & -0.434 &  0.031\\\\\n",
    "-0.144 & -0.824 & -0.524 &  0.14 &   0.074\\\\\n",
    "0.888 &  0.061 & -0.247 &  0.378 & -0.06 \\\\\n",
    "0.081 &  0.108 & -0.082 & -0.105 &  0.982\n",
    "\\end{pmatrix}$$\n",
    "\n",
    "$$D=\\begin{pmatrix}\n",
    "8.825 & 0 & 0 \\\\\n",
    "0 & 6.141 0 \\\\\n",
    "0 & 0 & 2.533 \\\\\n",
    "0 & 0 & 0 \\\\\n",
    "0 & 0 & 0 \n",
    "\\end{pmatrix}$$\n",
    "\n",
    "$$V=\\begin{pmatrix}\n",
    "0.071 & -0.367 & -0.927\\\\\n",
    "0.717 & 0.665 & -0.208\\\\\n",
    "0.693 & -0.65 & 0.311\n",
    "\\end{pmatrix}$$"
   ]
  },
  {
   "cell_type": "markdown",
   "id": "c569e056",
   "metadata": {},
   "source": [
    "---"
   ]
  },
  {
   "cell_type": "markdown",
   "id": "c5715b03",
   "metadata": {},
   "source": [
    "## Задание 2\n",
    "\n",
    "Для матрицы из предыдущего задания найдите:\n",
    "\n",
    "    а) евклидову норму;\n",
    "    \n",
    "    б) норму Фробениуса."
   ]
  },
  {
   "cell_type": "markdown",
   "id": "2001f81e",
   "metadata": {},
   "source": [
    "___Решение___"
   ]
  },
  {
   "cell_type": "markdown",
   "id": "7a3cabb4",
   "metadata": {},
   "source": [
    "__а)__\n",
    "\n",
    "_Евклидова норма_:\n",
    "    \n",
    "$$\\left \\| A \\right \\|_{E}=\\text{max}\\left (\\frac{\\left \\| Ax \\right \\|}{\\left \\| x \\right \\|}\\right )$$ "
   ]
  },
  {
   "cell_type": "markdown",
   "id": "0259c19b",
   "metadata": {},
   "source": [
    "Евклидова норма матрицы равна евклидовой норме диагональной матрицы из её сингулярных чисел $D$. Максимальное значение полученного отношения будет равно максимальному сингулярному числу $\\mu_{max}$, и, принимая во внимание факт сортировки по убыванию сингулярных чисел, получим:\n",
    "\n",
    "$$\\left \\| A \\right \\|_{E}=\\mu_{1}=8.825$$"
   ]
  },
  {
   "cell_type": "markdown",
   "id": "da8c1a52",
   "metadata": {},
   "source": [
    "__б)__\n",
    "    \n",
    "_Норма Фробениуса_:\n",
    "\n",
    "$$\\left \\| A \\right \\|_{F}=\\sqrt{\\sum_{i=1}^{m}\\sum_{j=1}^{n}a_{ij}^{2}}.$$"
   ]
  },
  {
   "cell_type": "markdown",
   "id": "fbbaa7b6",
   "metadata": {},
   "source": [
    "Когда известно сингулярное разложение матрицы, её норма Фробениуса вычисляется как:\n",
    "\n",
    "$$\\left \\| A \\right \\|_{F}=\\sqrt{\\sum_{k=1}^{r}\\mu_{k}^{2}}=\\sqrt{\\sum_{k=1}^{3}\\mu_{k}^{2}} =\\sqrt{\\mu_{1}^{2} + \\mu_{2}^{2} + \\mu_{3}^{2}} =\\sqrt{8.825^{2} + 6.141^{2} + 2.533^{2}}= 11.04536$$"
   ]
  },
  {
   "cell_type": "code",
   "execution_count": 6,
   "id": "440f6d66",
   "metadata": {},
   "outputs": [
    {
     "name": "stdout",
     "output_type": "stream",
     "text": [
      "A_f = 11.04536\n"
     ]
    }
   ],
   "source": [
    "print(f\"A_f = {np.round(np.sqrt(np.sum(np.power(s, 2))), 5)}\")"
   ]
  },
  {
   "cell_type": "markdown",
   "id": "4e772d87",
   "metadata": {},
   "source": [
    "___Ответ:___ ___а)___ $\\left \\| A \\right \\|_{E}=8.825$, $\\;$ ___б)___ $\\left \\| A \\right \\|_{F}=11.04536$"
   ]
  },
  {
   "cell_type": "markdown",
   "id": "2a0106c3",
   "metadata": {},
   "source": [
    "---"
   ]
  }
 ],
 "metadata": {
  "kernelspec": {
   "display_name": "Python 3 (ipykernel)",
   "language": "python",
   "name": "python3"
  },
  "language_info": {
   "codemirror_mode": {
    "name": "ipython",
    "version": 3
   },
   "file_extension": ".py",
   "mimetype": "text/x-python",
   "name": "python",
   "nbconvert_exporter": "python",
   "pygments_lexer": "ipython3",
   "version": "3.8.8"
  }
 },
 "nbformat": 4,
 "nbformat_minor": 5
}
