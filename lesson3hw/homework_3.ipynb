{
 "cells": [
  {
   "cell_type": "markdown",
   "id": "8799cfec",
   "metadata": {},
   "source": [
    "# Практическое задание №3 по теме \"Линейные преобразования\""
   ]
  },
  {
   "cell_type": "code",
   "execution_count": 1,
   "id": "798ab32a",
   "metadata": {},
   "outputs": [],
   "source": [
    "import numpy as np"
   ]
  },
  {
   "cell_type": "markdown",
   "id": "9c0e63d0",
   "metadata": {},
   "source": [
    "## Задание 1\n",
    "\n",
    "Найти собственные векторы и собственные значения для линейного оператора, заданного матрицей\n",
    "\n",
    "$$A=\\begin{pmatrix}\n",
    "-1 & -6\\\\ \n",
    "2 & 6\n",
    "\\end{pmatrix}$$"
   ]
  },
  {
   "cell_type": "markdown",
   "id": "8f8fcda0",
   "metadata": {},
   "source": [
    "___Решение___"
   ]
  },
  {
   "cell_type": "markdown",
   "id": "85205ec7",
   "metadata": {},
   "source": [
    "Найдем собственные значения линейного оператора, составив и решив характеристическое уравнение:\n",
    "\n",
    "$$det(A-\\lambda I)=0$$"
   ]
  },
  {
   "cell_type": "markdown",
   "id": "e6c19270",
   "metadata": {},
   "source": [
    "$$\\begin{vmatrix}\n",
    "-1-\\lambda & -6\\\\ \n",
    "2 & 6-\\lambda\n",
    "\\end{vmatrix} = 0$$\n",
    "\n",
    "$$(\\lambda+1)(\\lambda-6)+12 = 0$$\n",
    "\n",
    "$$\\lambda^2 - 5\\lambda + 6 = 0$$\n",
    "\n",
    "$$(\\lambda+1)(\\lambda-6)+12 = 0$$\n",
    "\n",
    "$$\\lambda_{1} = 2, \\; \\lambda_{2}=3$$"
   ]
  },
  {
   "cell_type": "markdown",
   "id": "4ae9105e",
   "metadata": {},
   "source": [
    "Найдем собственные векторы, соответствующие числу $\\lambda=\\lambda_{1}=2$, подставив полученное собственное значение в выражение $\\textbf{A}x=\\lambda x$:"
   ]
  },
  {
   "cell_type": "markdown",
   "id": "d6560354",
   "metadata": {},
   "source": [
    "$$\\begin{pmatrix}\n",
    "-1 & -6\\\\ \n",
    "2 & 6\n",
    "\\end{pmatrix}\n",
    "\\begin{pmatrix}\n",
    "x_{1}\\\\ \n",
    "x_{2}\n",
    "\\end{pmatrix}=\n",
    "2\n",
    "\\begin{pmatrix}\n",
    "x_{1}\\\\ \n",
    "x_{2}\n",
    "\\end{pmatrix}\n",
    "$$"
   ]
  },
  {
   "cell_type": "markdown",
   "id": "cba4e5b0",
   "metadata": {},
   "source": [
    "$$\\begin{cases}\n",
    "-x_{1}-6x_{2}=2x_{1} \\\\\n",
    "2 x_{1}+6x_{2}=2x_{2}\n",
    "\\end{cases}\n",
    "\\Rightarrow\n",
    "\\begin{cases}\n",
    "3x_{1}=-6x_{2} \\\\\n",
    "2x_{1}=-4x_{2}\n",
    "\\end{cases}\n",
    "\\Rightarrow\n",
    "x_{1}=-2x_{2}\n",
    "$$ "
   ]
  },
  {
   "cell_type": "markdown",
   "id": "d56de744",
   "metadata": {},
   "source": [
    "Положим, что $x_2 = -1$, тогда $x_{1}=2$.\n",
    "\n",
    "$u_{1} = \\begin{pmatrix}\n",
    "2\\\\ \n",
    "-1\n",
    "\\end{pmatrix}$ — первый собственный вектор ($\\lambda=2$)"
   ]
  },
  {
   "cell_type": "markdown",
   "id": "bd906795",
   "metadata": {},
   "source": [
    "Найдем собственные векторы, соответствующие числу $\\lambda=\\lambda_{2}=3$, подставив полученное собственное значение в выражение $\\textbf{A}x=\\lambda x$:"
   ]
  },
  {
   "cell_type": "markdown",
   "id": "ade80805",
   "metadata": {},
   "source": [
    "$$\\begin{pmatrix}\n",
    "-1 & -6\\\\ \n",
    "2 & 6\n",
    "\\end{pmatrix}\n",
    "\\begin{pmatrix}\n",
    "x_{1}\\\\ \n",
    "x_{2}\n",
    "\\end{pmatrix}=\n",
    "3\n",
    "\\begin{pmatrix}\n",
    "x_{1}\\\\ \n",
    "x_{2}\n",
    "\\end{pmatrix}\n",
    "$$"
   ]
  },
  {
   "cell_type": "markdown",
   "id": "852b258e",
   "metadata": {},
   "source": [
    "$$\\begin{cases}\n",
    "-x_{1}-6x_{2}=3x_{1} \\\\\n",
    "2 x_{1}+6x_{2}=3x_{2}\n",
    "\\end{cases}\n",
    "\\Rightarrow\n",
    "\\begin{cases}\n",
    "4x_{1}=-6x_{2} \\\\\n",
    "2x_{1}=-3x_{2}\n",
    "\\end{cases}\n",
    "\\Rightarrow\n",
    "x_{1}=-\\frac{3}{2} x_{2}\n",
    "$$"
   ]
  },
  {
   "cell_type": "markdown",
   "id": "93f9893e",
   "metadata": {},
   "source": [
    "Положим, что $x_2 = -2$, тогда $x_{1}=3$.\n",
    "\n",
    "$u_{2} = \\begin{pmatrix}\n",
    "3\\\\ \n",
    "-2\n",
    "\\end{pmatrix}$ — второй собственный вектор ($\\lambda=3$)"
   ]
  },
  {
   "cell_type": "markdown",
   "id": "48303d38",
   "metadata": {},
   "source": [
    "Проверка через `np.linalg.eig()`"
   ]
  },
  {
   "cell_type": "code",
   "execution_count": 2,
   "id": "591c619e",
   "metadata": {
    "scrolled": true
   },
   "outputs": [
    {
     "name": "stdout",
     "output_type": "stream",
     "text": [
      "Матрица A:\n",
      "[[-1 -6]\n",
      " [ 2  6]]\n",
      "Собственные значения:\n",
      "[2. 3.]\n",
      "Собственные векторы:\n",
      "[[-0.89442719  0.83205029]\n",
      " [ 0.4472136  -0.5547002 ]]\n"
     ]
    }
   ],
   "source": [
    "a = np.array([[-1, -6], [2, 6]])\n",
    "w, v = np.linalg.eig(a)\n",
    " \n",
    "print(f'Матрица A:\\n{a}')\n",
    "print(f'Собственные значения:\\n{w}')\n",
    "print(f'Собственные векторы:\\n{v}')"
   ]
  },
  {
   "cell_type": "markdown",
   "id": "ee842f07",
   "metadata": {},
   "source": [
    "___Ответ:___ Cобственные числа: $\\lambda_{1} = 2$, $\\lambda_{2}=3$. Собственные векторы: $u_{1} = \\begin{pmatrix}\n",
    "2\\\\ \n",
    "-1\n",
    "\\end{pmatrix}$, $u_{2} = \\begin{pmatrix}\n",
    "3\\\\ \n",
    "-2\n",
    "\\end{pmatrix}$ "
   ]
  },
  {
   "cell_type": "markdown",
   "id": "d634eb89",
   "metadata": {},
   "source": [
    "---"
   ]
  },
  {
   "cell_type": "markdown",
   "id": "e83c5dbd",
   "metadata": {},
   "source": [
    "## Задание 2\n",
    "\n",
    "Дан оператор поворота на 180 градусов, задаваемый матрицей \n",
    "\n",
    "$$A=\\begin{pmatrix}\n",
    "-1 & 0\\\\ \n",
    "0 & -1\n",
    "\\end{pmatrix}$$\n",
    "\n",
    "Показать, что __любой__ вектор является для него собственным."
   ]
  },
  {
   "cell_type": "markdown",
   "id": "a7384549",
   "metadata": {},
   "source": [
    "___Решение___"
   ]
  },
  {
   "cell_type": "markdown",
   "id": "cf565804",
   "metadata": {},
   "source": [
    "Пусть вектор  $x=(a, b)$ - любой вектор. Нужно доказать, что он является собственным для преобразования поворота на 180 градусов, заданной матрицей $A$."
   ]
  },
  {
   "cell_type": "markdown",
   "id": "59747fc2",
   "metadata": {},
   "source": [
    "Допустим, это действительно так. Тогда должно существовать некоторое вещественное число  $\\lambda$ , при котором"
   ]
  },
  {
   "cell_type": "markdown",
   "id": "95b4934c",
   "metadata": {},
   "source": [
    "$$\\begin{pmatrix}\n",
    "-1 & 0\\\\ \n",
    "0 & -1\n",
    "\\end{pmatrix}\n",
    "\\begin{pmatrix}\n",
    "a\\\\ \n",
    "b\n",
    "\\end{pmatrix}=\n",
    "\\lambda\n",
    "\\begin{pmatrix}\n",
    "a\\\\ \n",
    "b\n",
    "\\end{pmatrix}.\n",
    "$$"
   ]
  },
  {
   "cell_type": "markdown",
   "id": "1f2271df",
   "metadata": {},
   "source": [
    "$$ \\begin{pmatrix}\n",
    "-a \\\\\n",
    "-b \\\\\n",
    "\\end{pmatrix} = \\lambda \\begin{pmatrix}\n",
    "a \\\\\n",
    "b \\\\\n",
    "\\end{pmatrix}\n",
    "$$"
   ]
  },
  {
   "cell_type": "markdown",
   "id": "03a18f57",
   "metadata": {},
   "source": [
    "$$\\begin{cases}\n",
    "-a=a\\lambda \\\\ \n",
    "-b=b\\lambda\n",
    "\\end{cases}\n",
    "\\Rightarrow\n",
    "\\begin{cases}\n",
    "\\lambda=-1\\\\ \n",
    "\\lambda=-1\n",
    "\\end{cases}\n",
    "\\Rightarrow\n",
    "\\lambda=-1\n",
    "$$"
   ]
  },
  {
   "cell_type": "markdown",
   "id": "57e0624e",
   "metadata": {},
   "source": [
    "Таким образом, вектор $x=(a, b)$ (любой вектор) является собственным вектором линейного оператора, заданного матрицей $A$, и его собственное значение составляет $\\lambda=-1$"
   ]
  },
  {
   "cell_type": "markdown",
   "id": "37e4e63f",
   "metadata": {},
   "source": [
    "---"
   ]
  },
  {
   "cell_type": "markdown",
   "id": "13e58747",
   "metadata": {},
   "source": [
    "## Задание 3\n",
    "\n",
    "Пусть линейный оператор задан матрицей\n",
    "\n",
    "$$A=\\begin{pmatrix}\n",
    "1 & 1\\\\ \n",
    "-1 & 3\n",
    "\\end{pmatrix}$$\n",
    "\n",
    "Установить, является ли вектор $x=(1,1)$ собственным вектором этого линейного оператора."
   ]
  },
  {
   "cell_type": "markdown",
   "id": "1881550a",
   "metadata": {},
   "source": [
    "___Решение___"
   ]
  },
  {
   "cell_type": "markdown",
   "id": "bebe9738",
   "metadata": {},
   "source": [
    "Предположим, что вектор $x$ является собственным вектором заданного линейного оператора, тогда должно существовать некоторое вещественное число $\\lambda$, при котором "
   ]
  },
  {
   "cell_type": "markdown",
   "id": "464a1291",
   "metadata": {},
   "source": [
    "$$\\begin{pmatrix}\n",
    "1 & 1\\\\ \n",
    "-1 & 3\n",
    "\\end{pmatrix}\n",
    "\\begin{pmatrix}\n",
    "1\\\\ \n",
    "1 \n",
    "\\end{pmatrix}=\n",
    "\\lambda\n",
    "\\begin{pmatrix}\n",
    "1\\\\ \n",
    "1\n",
    "\\end{pmatrix}\n",
    "$$"
   ]
  },
  {
   "cell_type": "markdown",
   "id": "f0139340",
   "metadata": {},
   "source": [
    "Из этого будет следовать, что \n",
    "\n",
    "$$\\begin{cases}\n",
    "1+1=1\\cdot\\lambda \\\\ \n",
    "-1+3 = 1\\cdot \\lambda\n",
    "\\end{cases}\n",
    "\\Rightarrow\n",
    "\\begin{cases}\n",
    "\\lambda=2\\\\ \n",
    "\\lambda=2\n",
    "\\end{cases}\n",
    "\\Rightarrow\n",
    "\\lambda=2\n",
    "$$"
   ]
  },
  {
   "cell_type": "markdown",
   "id": "5ecc21ec",
   "metadata": {},
   "source": [
    "Таким образом, вектор $x=(1,1)$ является собственным вектором линейного оператора, заданного матрицей $A$, и его собственное значение составляет $\\lambda=2$"
   ]
  },
  {
   "cell_type": "markdown",
   "id": "600510f8",
   "metadata": {},
   "source": [
    "___Ответ:___ Да, является."
   ]
  },
  {
   "cell_type": "markdown",
   "id": "74658b7b",
   "metadata": {},
   "source": [
    "---"
   ]
  },
  {
   "cell_type": "markdown",
   "id": "84693738",
   "metadata": {},
   "source": [
    "## Задание 4\n",
    "\n",
    "Пусть линейный оператор задан матрицей\n",
    "\n",
    "$$A=\\begin{pmatrix} 0 & 3 & 0\\\\ 3 & 0 & 0\\\\ 0 & 0 & 3 \\end{pmatrix}$$\n",
    "\n",
    "Установить, является ли вектор $x=(3, -3, -4)$ собственным вектором этого линейного оператора."
   ]
  },
  {
   "cell_type": "markdown",
   "id": "9f1d18a0",
   "metadata": {},
   "source": [
    "___Решение___"
   ]
  },
  {
   "cell_type": "markdown",
   "id": "bbd0994e",
   "metadata": {},
   "source": [
    "Предположим, что вектор $x$ является собственным вектором заданного линейного оператора, тогда должно существовать некоторое вещественное число $\\lambda$, при котором "
   ]
  },
  {
   "cell_type": "markdown",
   "id": "9b88ab36",
   "metadata": {},
   "source": [
    "$$\\begin{pmatrix}\n",
    "0 & 3 & 0\\\\ \n",
    "3 & 0 & 0\\\\\n",
    "0 & 0 & 3\n",
    "\\end{pmatrix}\n",
    "\\begin{pmatrix}\n",
    "3\\\\\n",
    "-3\\\\\n",
    "-4\n",
    "\\end{pmatrix}=\n",
    "\\lambda\n",
    "\\begin{pmatrix}\n",
    "3\\\\\n",
    "-3\\\\\n",
    "-4\n",
    "\\end{pmatrix}\n",
    "$$\n",
    "\n"
   ]
  },
  {
   "cell_type": "markdown",
   "id": "3f144be5",
   "metadata": {},
   "source": [
    "$$ \\begin{pmatrix}\n",
    "-9 \\\\\n",
    "9 \\\\\n",
    "-12\\\\\n",
    "\\end{pmatrix} = \\lambda \\begin{pmatrix}\n",
    "3 \\\\\n",
    "-3 \\\\\n",
    "-4\\\\\n",
    "\\end{pmatrix}\n",
    "$$"
   ]
  },
  {
   "cell_type": "markdown",
   "id": "e1860dd6",
   "metadata": {},
   "source": [
    "$$\\Rightarrow\n",
    "\\begin{cases}\n",
    "\\lambda=-3\\\\ \n",
    "\\lambda=-3\\\\\n",
    "\\lambda=3\n",
    "\\end{cases}\n",
    "\\Rightarrow\n",
    "\\begin{cases}\n",
    "\\lambda=-3\\\\ \n",
    "\\lambda=3\n",
    "\\end{cases}$$\n"
   ]
  },
  {
   "cell_type": "markdown",
   "id": "f924c7e7",
   "metadata": {},
   "source": [
    "Такая система не имеет смысла, следовательно, вектор $x=(3,-3,-4)$ не является собственным вектором линейного оператора, заданного матрицей $A$."
   ]
  },
  {
   "cell_type": "markdown",
   "id": "99a3fff9",
   "metadata": {},
   "source": [
    "___Ответ:___ Нет, не является."
   ]
  },
  {
   "cell_type": "markdown",
   "id": "48b84164",
   "metadata": {},
   "source": [
    "---"
   ]
  }
 ],
 "metadata": {
  "kernelspec": {
   "display_name": "Python 3 (ipykernel)",
   "language": "python",
   "name": "python3"
  },
  "language_info": {
   "codemirror_mode": {
    "name": "ipython",
    "version": 3
   },
   "file_extension": ".py",
   "mimetype": "text/x-python",
   "name": "python",
   "nbconvert_exporter": "python",
   "pygments_lexer": "ipython3",
   "version": "3.8.8"
  }
 },
 "nbformat": 4,
 "nbformat_minor": 5
}
