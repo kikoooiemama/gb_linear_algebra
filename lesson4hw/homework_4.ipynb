{
 "cells": [
  {
   "cell_type": "markdown",
   "id": "d70fb0ed",
   "metadata": {},
   "source": [
    "# Практическое задание №4 по теме \"Линейные преобразования\". Часть 1"
   ]
  },
  {
   "cell_type": "code",
   "execution_count": 1,
   "id": "de76057e",
   "metadata": {},
   "outputs": [],
   "source": [
    "import numpy as np\n",
    "import copy"
   ]
  },
  {
   "cell_type": "markdown",
   "id": "259581f6",
   "metadata": {},
   "source": [
    "## Задание 1\n",
    "\n",
    "Решите систему уравнений методом Гаусса:\n",
    "\n",
    "$$\\begin{cases}\n",
    "x_{1}+x_{2}-x_{3}-2x_{4}=0, \\\\\n",
    "2x_{1}+x_{2}-x_{3}+x_{4}=-2, \\\\\n",
    "x_{1}+x_{2}-3x_{3}+x_{4}=4.\n",
    "\\end{cases}$$"
   ]
  },
  {
   "cell_type": "markdown",
   "id": "128c0387",
   "metadata": {},
   "source": [
    "___Решение___"
   ]
  },
  {
   "cell_type": "markdown",
   "id": "375802a9",
   "metadata": {},
   "source": [
    "Запишем расширенную матрицу системы:\n",
    "\n",
    "$$\\begin{pmatrix}\n",
    "\\left. \\begin{matrix}\n",
    "1 & 1 & -1 & -2\\\\ \n",
    "2 & 1 & -1 & 1 \\\\ \n",
    "1 & 1 & -3 & 1\n",
    "\\end{matrix}\\right|\n",
    "\\begin{matrix}\n",
    "0\\\\ \n",
    "-2\\\\\n",
    "4\n",
    "\\end{matrix}\n",
    "\\end{pmatrix}$$"
   ]
  },
  {
   "cell_type": "markdown",
   "id": "4bb346ba",
   "metadata": {},
   "source": [
    "$$\\begin{pmatrix}\n",
    "\\left. \\begin{matrix}\n",
    "1 & 1 & -1 & -2 \\\\ \n",
    "2 & 1 & -1 & 1 \\\\ \n",
    "0 & 0 & -2 & 3\n",
    "\\end{matrix} \\right |\n",
    "\\begin{matrix}\n",
    "0\\\\ \n",
    "-2\\\\\n",
    "4\n",
    "\\end{matrix}\n",
    "\\end{pmatrix}\n",
    "$$"
   ]
  },
  {
   "cell_type": "markdown",
   "id": "9f589726",
   "metadata": {},
   "source": [
    "$$\\begin{pmatrix}\n",
    "\\left. \\begin{matrix}\n",
    "1 & 1 & -1 & -2 \\\\ \n",
    "0 & -1 & 1 & 5 \\\\ \n",
    "0 & 0 & -2 & 3\n",
    "\\end{matrix} \\right |\n",
    "\\begin{matrix}\n",
    "0\\\\ \n",
    "-2\\\\\n",
    "4\n",
    "\\end{matrix}\n",
    "\\end{pmatrix}\n",
    "$$"
   ]
  },
  {
   "cell_type": "markdown",
   "id": "a3aa901e",
   "metadata": {},
   "source": [
    "$$\\begin{pmatrix}\n",
    "\\left. \\begin{matrix}\n",
    "1 & 1 & -1 & -2 \\\\ \n",
    "0 & -2 & 2 & 10 \\\\ \n",
    "0 & 0 & -2 & 3\n",
    "\\end{matrix} \\right |\n",
    "\\begin{matrix}\n",
    "0\\\\ \n",
    "-4\\\\\n",
    "4\n",
    "\\end{matrix}\n",
    "\\end{pmatrix}\n",
    "$$"
   ]
  },
  {
   "cell_type": "markdown",
   "id": "ccb044b5",
   "metadata": {},
   "source": [
    "$$\\begin{pmatrix}\n",
    "\\left. \\begin{matrix}\n",
    "1 & 1 & -1 & -2 \\\\ \n",
    "0 & -2 & 0 & 13 \\\\ \n",
    "0 & 0 & -2 & 3\n",
    "\\end{matrix} \\right |\n",
    "\\begin{matrix}\n",
    "0\\\\ \n",
    "0\\\\\n",
    "4\n",
    "\\end{matrix}\n",
    "\\end{pmatrix}\n",
    "$$"
   ]
  },
  {
   "cell_type": "markdown",
   "id": "e216a915",
   "metadata": {},
   "source": [
    "$$n=4$$, \n",
    "$$rankA=rank \\tilde A = 3$$\n",
    "\n",
    "По теореме Кронекера — Капелли выполнение условия $rankA=rank \\tilde A<n$ означает, что система имеет бесконечное количество решений. Система совместная неопределенная. "
   ]
  },
  {
   "cell_type": "markdown",
   "id": "5a1e1789",
   "metadata": {},
   "source": [
    "$$\\begin{cases}\n",
    "x_{1}+x_{2}-x_{3}-2x_{4}=0 \\\\\n",
    "-2x_{2}+13x_{4}=0 \\\\\n",
    "-2x_{3}+3x_{4}=4\n",
    "\\end{cases}$$"
   ]
  },
  {
   "cell_type": "markdown",
   "id": "e1c34fee",
   "metadata": {},
   "source": [
    "Запишем общее решение, задав _свободным_ параметром $x_{4}=c$:\n",
    "\n",
    "$$\\begin{cases}\n",
    "x_{1}+x_{2}-x_{3}-2c=0 \\\\\n",
    "-2x_{2}+13c=0 \\\\\n",
    "-2x_{3}+3c=4\n",
    "\\end{cases} \\implies\n",
    "\\begin{cases}\n",
    "x_{1}=-x_{2}+x_{3}+2c \\\\\n",
    "x_{2}=6.5c \\\\\n",
    "x_{3}=1.5c - 2\n",
    "\\end{cases} \\implies\n",
    "\\begin{cases}\n",
    "x_{1}=-x_{2}+x_{3}+2c \\\\\n",
    "x_{2}=6.5c \\\\\n",
    "x_{3}=1.5c - 2\n",
    "\\end{cases}\n",
    "$$"
   ]
  },
  {
   "cell_type": "markdown",
   "id": "d06f2011",
   "metadata": {},
   "source": [
    "Общее решение: \n",
    "$$\\begin{cases}\n",
    "x_{1}=-3c-2 \\\\\n",
    "x_{2}=6.5c \\\\\n",
    "x_{3}=1.5c - 2\\\\\n",
    "x_{4}=c\n",
    "\\end{cases}$$"
   ]
  },
  {
   "cell_type": "markdown",
   "id": "b2835733",
   "metadata": {},
   "source": [
    "---"
   ]
  },
  {
   "cell_type": "markdown",
   "id": "b5f5e21b",
   "metadata": {},
   "source": [
    "## Задание 2\n",
    "\n",
    "Проверьте на совместность и выясните, сколько решений будет иметь система линейных уравнений:\n",
    "\n",
    "   а) $\\begin{cases}\n",
    "3x_{1}-x_{2}+x_{3}=4 \\\\\n",
    "2x_{1}-5x_{2}-3x_{3}=-17 \\\\\n",
    "x_{1}+x_{2}-x_{3}=0\n",
    "\\end{cases}$\n",
    "    \n",
    "   б) $\\begin{cases}\n",
    "2x_{1}-4x_{2}+6x_{3}=1 \\\\\n",
    "x_{1}-2x_{2}+3x_{3}=-2 \\\\\n",
    "3x_{1}-6x_{2}+9x_{3}=5\n",
    "\\end{cases}$\n",
    "    \n",
    "   в) $\\begin{cases}\n",
    "x_{1}+2x_{2}+5x_{3}=4 \\\\\n",
    "3x_{1}+x_{2}-8x_{3}=-2 \n",
    "\\end{cases}$"
   ]
  },
  {
   "cell_type": "markdown",
   "id": "7e1696c0",
   "metadata": {},
   "source": [
    "___Решение___"
   ]
  },
  {
   "cell_type": "markdown",
   "id": "93a3b75b",
   "metadata": {},
   "source": [
    "Воспользуемся __теоремой Кронекера — Капелли__.\n",
    "\n",
    "Необходимым и достаточным условием совместности системы из $m$ уравнений с $n$ неизвестными считается равенство между собой рангов матрицы коэффициентов $A$ и расширенной матрицы $\\tilde A$:\n",
    "\n",
    "$$rank A=rank \\tilde A.$$\n",
    "\n",
    "* если $rankA=rank \\tilde A=n$, где $n$ — число неизвестных, то система определена, то есть имеет единственное решение;<br>\n",
    "* если $rankA=rank \\tilde A<n$, то система имеет бесконечное количество решений;<br>\n",
    "* если $rankA<rank \\tilde A$, то система несовместна."
   ]
  },
  {
   "cell_type": "markdown",
   "id": "43f4d89f",
   "metadata": {},
   "source": [
    "   а) $\\begin{cases}\n",
    "3x_{1}-x_{2}+x_{3}=4 \\\\\n",
    "2x_{1}-5x_{2}-3x_{3}=-17 \\\\\n",
    "x_{1}+x_{2}-x_{3}=0\n",
    "\\end{cases}$"
   ]
  },
  {
   "cell_type": "markdown",
   "id": "6b510293",
   "metadata": {},
   "source": [
    "$$ A =\\begin{pmatrix}\n",
    "3 & -1 & 1 \\\\ \n",
    "2 & -5 & -3 \\\\ \n",
    "1 & 1 & -1\n",
    "\\end{pmatrix}$$"
   ]
  },
  {
   "cell_type": "markdown",
   "id": "12c671f7",
   "metadata": {},
   "source": [
    "$$\\tilde A =\\begin{pmatrix}\n",
    "\\left. \\begin{matrix}\n",
    "3 & -1 & 1 \\\\ \n",
    "2 & -5 & -3 \\\\ \n",
    "1 & 1 & -1\n",
    "\\end{matrix}\\right|\n",
    "\\begin{matrix}\n",
    "4\\\\ \n",
    "-17\\\\\n",
    "0\n",
    "\\end{matrix}\n",
    "\\end{pmatrix}$$"
   ]
  },
  {
   "cell_type": "markdown",
   "id": "e747034f",
   "metadata": {},
   "source": [
    "$$rankA=3, \\; rank\\tilde A = 3, \\; n=3$$\n",
    "\n",
    "$$rankA=rank\\tilde A=n$$"
   ]
  },
  {
   "cell_type": "markdown",
   "id": "568a779a",
   "metadata": {},
   "source": [
    "Система является ___совместной___ и имеет ___единственное решение___."
   ]
  },
  {
   "cell_type": "markdown",
   "id": "692491dd",
   "metadata": {},
   "source": [
    "   б) $\\begin{cases}\n",
    "2x_{1}-4x_{2}+6x_{3}=1 \\\\\n",
    "x_{1}-2x_{2}+3x_{3}=-2 \\\\\n",
    "3x_{1}-6x_{2}+9x_{3}=5\n",
    "\\end{cases}$"
   ]
  },
  {
   "cell_type": "markdown",
   "id": "3f872161",
   "metadata": {},
   "source": [
    "$$ A =\\begin{pmatrix}\n",
    "2 & -4 & 6 \\\\ \n",
    "1 & -2 & 3 \\\\ \n",
    "3 & -6 & 9\n",
    "\\end{pmatrix}$$\n",
    "\n",
    "$$ A =\\begin{pmatrix}\n",
    "1 & -2 & 3 \\\\ \n",
    "\\end{pmatrix}$$"
   ]
  },
  {
   "cell_type": "markdown",
   "id": "f763c91e",
   "metadata": {},
   "source": [
    "$$\\tilde A =\\begin{pmatrix}\n",
    "\\left. \\begin{matrix}\n",
    "2 & -4 & 6 \\\\ \n",
    "1 & -2 & 3 \\\\ \n",
    "3 & -6 & 9\n",
    "\\end{matrix}\\right|\n",
    "\\begin{matrix}\n",
    "1\\\\ \n",
    "-2\\\\\n",
    "5\n",
    "\\end{matrix}\n",
    "\\end{pmatrix}$$\n",
    "\n",
    "$$\\tilde A =\\begin{pmatrix}\n",
    "\\left. \\begin{matrix}\n",
    "1 & -2 & 3 \\\\ \n",
    "0 & 0 & 0 \\\\ \n",
    "0 & 0 & 0\n",
    "\\end{matrix}\\right|\n",
    "\\begin{matrix}\n",
    "-2\\\\ \n",
    "5\\\\\n",
    "0\n",
    "\\end{matrix}\n",
    "\\end{pmatrix}$$"
   ]
  },
  {
   "cell_type": "markdown",
   "id": "8f1126b8",
   "metadata": {},
   "source": [
    "$$rankA=1, \\; rank\\tilde A = 2, \\; n=3$$\n",
    "\n",
    "$$rankA<rank\\tilde A$$"
   ]
  },
  {
   "cell_type": "markdown",
   "id": "3ddbb22c",
   "metadata": {},
   "source": [
    "Система является ___несовместной___ и ___не имеет решений___."
   ]
  },
  {
   "cell_type": "markdown",
   "id": "1c6ab9da",
   "metadata": {},
   "source": [
    "   в) $\\begin{cases}\n",
    "x_{1}+2x_{2}+5x_{3}=4 \\\\\n",
    "3x_{1}+x_{2}-8x_{3}=-2 \n",
    "\\end{cases}$"
   ]
  },
  {
   "cell_type": "markdown",
   "id": "b0d16ce0",
   "metadata": {},
   "source": [
    "$$ A =\\begin{pmatrix}\n",
    "1 & 2 & 5 \\\\ \n",
    "3 & 1 & -8\n",
    "\\end{pmatrix}$$"
   ]
  },
  {
   "cell_type": "markdown",
   "id": "461d2aa4",
   "metadata": {},
   "source": [
    "$$\\tilde A =\\begin{pmatrix}\n",
    "\\left. \\begin{matrix}\n",
    "1 & 2 & 5 \\\\ \n",
    "3 & 1 & -8\n",
    "\\end{matrix}\\right|\n",
    "\\begin{matrix}\n",
    "4\\\\ \n",
    "-2\n",
    "\\end{matrix}\n",
    "\\end{pmatrix}$$"
   ]
  },
  {
   "cell_type": "markdown",
   "id": "605395d5",
   "metadata": {},
   "source": [
    "$$rankA=2, \\; rank\\tilde A = 2, \\; n=3$$\n",
    "\n",
    "$$rankA=rank\\tilde A < n$$"
   ]
  },
  {
   "cell_type": "markdown",
   "id": "d7532680",
   "metadata": {},
   "source": [
    "Система является ___совместной___ и имеет ___бесконечное количество решений___."
   ]
  },
  {
   "cell_type": "markdown",
   "id": "efe02e2b",
   "metadata": {},
   "source": [
    "---"
   ]
  },
  {
   "cell_type": "markdown",
   "id": "967fbc7d",
   "metadata": {},
   "source": [
    "## Задание 3\n",
    "\n",
    "Проверьте на совместность и выясните, сколько решений будет иметь система линейных уравнений, заданная расширенной матрицей:\n",
    "\n",
    "$$\\tilde{A}=\\begin{pmatrix}\n",
    "\\left.\\begin{matrix}\n",
    "1 & 3 & -2 & 4\\\\ \n",
    "0 & 5 & 0 & 1\\\\ \n",
    "0 & 0 & 3 & 0\\\\ \n",
    "0 & 0 & 0 & 2\n",
    "\\end{matrix}\\right|\n",
    "\\begin{matrix}\n",
    "3\\\\ \n",
    "2\\\\\n",
    "4\\\\\n",
    "1\n",
    "\\end{matrix}\n",
    "\\end{pmatrix}$$"
   ]
  },
  {
   "cell_type": "markdown",
   "id": "5d1dbc85",
   "metadata": {},
   "source": [
    "___Решение___"
   ]
  },
  {
   "cell_type": "markdown",
   "id": "017e09a6",
   "metadata": {},
   "source": [
    "$$\\tilde{A}=\\begin{pmatrix}\n",
    "\\left.\\begin{matrix}\n",
    "1 & 0 & 0 & 0\\\\ \n",
    "0 & 5 & 0 & 0\\\\ \n",
    "0 & 0 & 3 & 0\\\\ \n",
    "0 & 0 & 0 & 2\n",
    "\\end{matrix}\\right|\n",
    "\\begin{matrix}\n",
    "\\frac{83}{30} \\\\ \n",
    "1.5\\\\\n",
    "4\\\\\n",
    "1\n",
    "\\end{matrix}\n",
    "\\end{pmatrix}$$"
   ]
  },
  {
   "cell_type": "markdown",
   "id": "1f1222bc",
   "metadata": {},
   "source": [
    "$$rankA=4, \\; rank\\tilde A = 4, \\; n=4$$"
   ]
  },
  {
   "cell_type": "markdown",
   "id": "74e5b303",
   "metadata": {},
   "source": [
    "Система является ___совместной___ и имеет ___единственное решение___ (по теореме Кронекера — Капелли)."
   ]
  },
  {
   "cell_type": "markdown",
   "id": "b7437dec",
   "metadata": {},
   "source": [
    "---"
   ]
  },
  {
   "cell_type": "markdown",
   "id": "18eeceab",
   "metadata": {},
   "source": [
    "## Задание 4\n",
    "\n",
    "Дана система линейных уравнений, заданная расширенной матрицей:\n",
    "\n",
    "$$\\tilde{A}=\\begin{pmatrix}\n",
    "\\left.\\begin{matrix}\n",
    "1 & 2 & 3\\\\ \n",
    "4 & 5 & 6\\\\ \n",
    "7 & 8 & 9\n",
    "\\end{matrix}\\right|\n",
    "\\begin{matrix}\n",
    "a\\\\ \n",
    "b\\\\\n",
    "c\n",
    "\\end{matrix}\n",
    "\\end{pmatrix}$$\n",
    "\n",
    "Найдите соотношение между параметрами $a$, $b$ и $c$, при которых система считается несовместной."
   ]
  },
  {
   "cell_type": "markdown",
   "id": "951db777",
   "metadata": {},
   "source": [
    "___Решение___"
   ]
  },
  {
   "cell_type": "markdown",
   "id": "b878135e",
   "metadata": {},
   "source": [
    "Систему можно считать несовместной, если $rankA < rank \\tilde{A}$\n",
    "\n",
    "$$\\tilde{A}=\\begin{pmatrix}\n",
    "\\left.\\begin{matrix}\n",
    "1 & 2 & 3\\\\ \n",
    "4 & 5 & 6\\\\ \n",
    "7 & 8 & 9\n",
    "\\end{matrix}\\right|\n",
    "\\begin{matrix}\n",
    "a\\\\ \n",
    "b\\\\\n",
    "c\n",
    "\\end{matrix}\n",
    "\\end{pmatrix}$$\n",
    "\n",
    "$$A=\\begin{pmatrix}\n",
    "1 & 2 & 3\\\\ \n",
    "4 & 5 & 6\\\\ \n",
    "7 & 8 & 9\n",
    "\\end{pmatrix}$$"
   ]
  },
  {
   "cell_type": "markdown",
   "id": "94d34bb1",
   "metadata": {},
   "source": [
    "Найдем ранги, преобразовав расширенную матрицу $\\tilde{A}$:"
   ]
  },
  {
   "cell_type": "markdown",
   "id": "6fdbf281",
   "metadata": {},
   "source": [
    "$$\\tilde{A}=\\begin{pmatrix}\n",
    "\\left.\\begin{matrix}\n",
    "1 & 2 & 3\\\\ \n",
    "4 & 5 & 6\\\\ \n",
    "7 & 8 & 9\n",
    "\\end{matrix}\\right|\n",
    "\\begin{matrix}\n",
    "a\\\\ \n",
    "b\\\\\n",
    "c\n",
    "\\end{matrix}\n",
    "\\end{pmatrix}$$"
   ]
  },
  {
   "cell_type": "markdown",
   "id": "a1495b85",
   "metadata": {},
   "source": [
    "$$\\tilde{A}=\\begin{pmatrix}\n",
    "\\left.\\begin{matrix}\n",
    "1 & 2 & 3\\\\ \n",
    "3 & 3 & 3\\\\ \n",
    "6 & 6 & 6\n",
    "\\end{matrix}\\right|\n",
    "\\begin{matrix}\n",
    "a\\\\ \n",
    "b-a\\\\\n",
    "c-a\n",
    "\\end{matrix}\n",
    "\\end{pmatrix}$$"
   ]
  },
  {
   "cell_type": "markdown",
   "id": "8fc1a9c3",
   "metadata": {},
   "source": [
    "$$\\tilde{A}=\\begin{pmatrix}\n",
    "\\left.\\begin{matrix}\n",
    "1 & 2 & 3\\\\ \n",
    "3 & 3 & 3\\\\ \n",
    "0 & 0 & 0\n",
    "\\end{matrix}\\right|\n",
    "\\begin{matrix}\n",
    "a\\\\ \n",
    "b-a\\\\\n",
    "c-2b+a\n",
    "\\end{matrix}\n",
    "\\end{pmatrix}$$"
   ]
  },
  {
   "cell_type": "markdown",
   "id": "011af85b",
   "metadata": {},
   "source": [
    "$$\\tilde{A}=\\begin{pmatrix}\n",
    "\\left.\\begin{matrix}\n",
    "1 & 2 & 3\\\\ \n",
    "2 & 1 & 0\\\\ \n",
    "0 & 0 & 0\n",
    "\\end{matrix}\\right|\n",
    "\\begin{matrix}\n",
    "a\\\\ \n",
    "b-2a\\\\\n",
    "c-2b+a\n",
    "\\end{matrix}\n",
    "\\end{pmatrix}$$"
   ]
  },
  {
   "cell_type": "markdown",
   "id": "a441f812",
   "metadata": {},
   "source": [
    "Сразу можно подметить, что $rankA=2$. Для выполнения $rankA < rank \\tilde{A}$ нужно, чтобы $rank \\tilde{A} = 3$.\n",
    "\n",
    "Если $c-2b+a \\neq 0$, тогда система считается несовместной, что нам и нужно. В противном случае система будет совместной.\n",
    "\n",
    "Таким образом, первое необходимое условие: $$c-2b+a \\neq 0$$\n",
    "\n"
   ]
  },
  {
   "cell_type": "markdown",
   "id": "82676b22",
   "metadata": {},
   "source": [
    "Чтобы ранг расширенной матрицы $\\tilde{A}$ равнялся 3 нужно, чтобы был хотя бы один ненулевой минор 3-го порядка. Причем этот минор будет содержать 4-ый столбец, так как в остальных столбцах все элементы 3-ей строки равны $0$. Таким образом, следующие условия:"
   ]
  },
  {
   "cell_type": "markdown",
   "id": "d0e03b9d",
   "metadata": {},
   "source": [
    "$$\\begin{vmatrix}\n",
    "2 & 3 & a\\\\ \n",
    "1 & 0 & b-2a\\\\ \n",
    "0 & 0 & c-2b+a\n",
    "\\end{vmatrix} = -3\\cdot(c-2b+a) \\neq 0  \n",
    "$$ \n",
    "\n",
    "или \n",
    "\n",
    "$$\\begin{vmatrix}\n",
    "1 & 3 & a\\\\ \n",
    "2 & 0 & b-2a\\\\ \n",
    "0 & 0 & c-2b+a\n",
    "\\end{vmatrix} = -6\\cdot(c-2b+a) \\neq 0  \n",
    "$$\n",
    "\n",
    "или\n",
    "\n",
    "$$\\begin{vmatrix}\n",
    "1 & 2 & a\\\\ \n",
    "2 & 1 & b-2a\\\\ \n",
    "0 & 0 & c-2b+a\n",
    "\\end{vmatrix} = c-2b+a - 2\\cdot(2c-4b+2) \\neq 0  \n",
    "$$"
   ]
  },
  {
   "cell_type": "markdown",
   "id": "d8d5db36",
   "metadata": {},
   "source": [
    "\n",
    "То есть\n",
    "$$\n",
    "\\left[\n",
    "\\begin{gathered}\n",
    "    -3\\cdot(c-2b+a) \\neq 0 \\\\\n",
    "    -6\\cdot(c-2b+a) \\neq 0 \\\\\n",
    "    c-2b+a - 2\\cdot(2c-4b+2) \\neq 0\n",
    "\\end{gathered} \\implies\n",
    "\\right[ \\begin{gathered}\n",
    "    -3c+6b-3a \\neq 0 \\\\\n",
    "    -6c+12b-6a \\neq 0 \\\\\n",
    "    -3c+6b-3a \\neq 0\n",
    "\\end{gathered} \\implies c-2b+a \\neq 0 $$"
   ]
  },
  {
   "cell_type": "markdown",
   "id": "d1a30975",
   "metadata": {},
   "source": [
    "Снова получили такое же условие. Следовательно, система несовместа при $c-2b+a \\neq 0$"
   ]
  },
  {
   "cell_type": "markdown",
   "id": "3518e94f",
   "metadata": {},
   "source": [
    "___Ответ:___ Система считается несовместной, если $c-2b+a \\neq 0$"
   ]
  },
  {
   "cell_type": "markdown",
   "id": "1c1f0b50",
   "metadata": {},
   "source": [
    "---"
   ]
  },
  {
   "cell_type": "markdown",
   "id": "f7baf9c3",
   "metadata": {},
   "source": [
    "# Практическое задание №4 по теме \"Линейные преобразования\". Часть 2"
   ]
  },
  {
   "cell_type": "markdown",
   "id": "f66874da",
   "metadata": {},
   "source": [
    "## Задание 1\n",
    "\n",
    "Решите систему уравнений методом Крамера:\n",
    "\n",
    "   а) $\\begin{cases}\n",
    "x_{1}-2x_{2}=1 \\\\\n",
    "3x_{1}-4x_{2}=7\n",
    "\\end{cases}$\n",
    "    \n",
    "   б) $\\begin{cases}\n",
    "2x_{1}-x_{2}+5x_{3}=10 \\\\\n",
    "x_{1}+x_{2}-3x_{3}=-2 \\\\\n",
    "2x_{1}+4x_{2}+x_{3}=1\n",
    "\\end{cases}$"
   ]
  },
  {
   "cell_type": "markdown",
   "id": "93a3fdd2",
   "metadata": {},
   "source": [
    "___Решение___"
   ]
  },
  {
   "cell_type": "markdown",
   "id": "cc42655a",
   "metadata": {},
   "source": [
    "   __а)__ $\\begin{cases}\n",
    "x_{1}-2x_{2}=1 \\\\\n",
    "3x_{1}-4x_{2}=7\n",
    "\\end{cases}$"
   ]
  },
  {
   "cell_type": "markdown",
   "id": "1e59d121",
   "metadata": {},
   "source": [
    "Найдём определитель матрицы коэффициентов:\n",
    "\n",
    "$$detA=\\begin{vmatrix}\n",
    "1 & -2 \\\\\n",
    "3 & -4 \n",
    "\\end{vmatrix}=2\\neq 0$$"
   ]
  },
  {
   "cell_type": "markdown",
   "id": "42f013e0",
   "metadata": {},
   "source": [
    "Найдём определители $detA_{1}$, $detA_{2}$:\n",
    "\n",
    "$$detA_{1}=\\begin{vmatrix}\n",
    "1 & -2 \\\\\n",
    "7 & -4 \n",
    "\\end{vmatrix}=-4+14=10$$\n",
    "\n",
    "$$detA_{2}=\\begin{vmatrix}\n",
    "1 & 1 \\\\\n",
    "3 & 7 \n",
    "\\end{vmatrix}=7-3=4$$"
   ]
  },
  {
   "cell_type": "markdown",
   "id": "a83b93a3",
   "metadata": {},
   "source": [
    "Найдём решение по формулам Крамера:\n",
    "\n",
    "$$x_{1} = \\frac{detA_{1}}{detA} = \\frac{10}{2}=5$$\n",
    "\n",
    "$$x_{2} = \\frac{detA_{2}}{detA} = \\frac{4}{2}=2$$\n"
   ]
  },
  {
   "cell_type": "markdown",
   "id": "de3929e1",
   "metadata": {},
   "source": [
    "Проверка:"
   ]
  },
  {
   "cell_type": "code",
   "execution_count": 2,
   "id": "95be20a5",
   "metadata": {},
   "outputs": [
    {
     "data": {
      "text/plain": [
       "array([[5.],\n",
       "       [2.]])"
      ]
     },
     "execution_count": 2,
     "metadata": {},
     "output_type": "execute_result"
    }
   ],
   "source": [
    "A = np.array([[1, -2], [3, -4]])\n",
    "b = np.array([[1], [7]])\n",
    "np.linalg.solve(A, b)"
   ]
  },
  {
   "cell_type": "markdown",
   "id": "05fdd3bd",
   "metadata": {},
   "source": [
    "   __б)__ $\\begin{cases}\n",
    "2x_{1}-x_{2}+5x_{3}=10 \\\\\n",
    "x_{1}+x_{2}-3x_{3}=-2 \\\\\n",
    "2x_{1}+4x_{2}+x_{3}=1\n",
    "\\end{cases}$"
   ]
  },
  {
   "cell_type": "markdown",
   "id": "61b99ef4",
   "metadata": {},
   "source": [
    "Найдём определитель матрицы коэффициентов:\n",
    "\n",
    "$$detA=\\begin{vmatrix}\n",
    "2 & -1 & 5 \\\\\n",
    "1 & 1 & -3 \\\\\n",
    "2 & 4 & 1\n",
    "\\end{vmatrix}=2\\cdot(1+12) + 7 + 5\\cdot(4-2)=43\\neq 0$$"
   ]
  },
  {
   "cell_type": "markdown",
   "id": "dc831334",
   "metadata": {},
   "source": [
    "Найдём определители $detA_{1}$, $detA_{2}$, $detA_{3}$:\n",
    "\n",
    "$$detA_{1}=\\begin{vmatrix}\n",
    "10 & -1 & 5 \\\\\n",
    "-2 & 1 & -3 \\\\\n",
    "1 & 4 & 1\n",
    "\\end{vmatrix}=10\\cdot13 + 1 + 5\\cdot(-9)=86$$\n",
    "\n",
    "$$detA_{2}=\\begin{vmatrix}\n",
    "2 & 10 & 5 \\\\\n",
    "1 & -2 & -3 \\\\\n",
    "2 & 1 & 1\n",
    "\\end{vmatrix}=2-10\\cdot 7 + 5\\cdot 5 = -43$$\n",
    "\n",
    "$$detA_{3}=\\begin{vmatrix}\n",
    "2 & -1 & 10 \\\\\n",
    "1 & 1 & -2 \\\\\n",
    "2 & 4 & 1\n",
    "\\end{vmatrix}=2\\cdot9 + 5 + 10\\cdot2=43$$"
   ]
  },
  {
   "cell_type": "markdown",
   "id": "cd3a4a1b",
   "metadata": {},
   "source": [
    "Найдём решение по формулам Крамера:\n",
    "\n",
    "$$x_{1} = \\frac{detA_{1}}{detA} = \\frac{86}{43}=2$$\n",
    "\n",
    "$$x_{2} = \\frac{detA_{2}}{detA} = \\frac{-43}{43}=-1$$\n",
    "\n",
    "$$x_{3} = \\frac{detA_{3}}{detA} = \\frac{43}{43}=1$$"
   ]
  },
  {
   "cell_type": "markdown",
   "id": "8c7cdb56",
   "metadata": {},
   "source": [
    "Проверка:"
   ]
  },
  {
   "cell_type": "code",
   "execution_count": 3,
   "id": "516b8e3c",
   "metadata": {},
   "outputs": [
    {
     "data": {
      "text/plain": [
       "array([[ 2.],\n",
       "       [-1.],\n",
       "       [ 1.]])"
      ]
     },
     "execution_count": 3,
     "metadata": {},
     "output_type": "execute_result"
    }
   ],
   "source": [
    "A = np.array([[2,-1,5], [1,1,-3], [2,4,1]])\n",
    "b = np.array([[10], [-2], [1]])\n",
    "np.linalg.solve(A, b)"
   ]
  },
  {
   "cell_type": "markdown",
   "id": "92fe47d1",
   "metadata": {},
   "source": [
    "___Ответ:___ ___а)___ $x = \\begin{pmatrix}5\\\\2 \\end{pmatrix}$, ___б)___ $x = \\begin{pmatrix}2\\\\-1\\\\1 \\end{pmatrix}$"
   ]
  },
  {
   "cell_type": "markdown",
   "id": "beaad3d0",
   "metadata": {},
   "source": [
    "---"
   ]
  },
  {
   "cell_type": "markdown",
   "id": "df9ac778",
   "metadata": {},
   "source": [
    "## Задание 2*\n",
    "\n",
    "Найдите $L$-матрицу $LU$-разложения для матрицы коэффициентов:\n",
    "\n",
    "   а)$$\\begin{pmatrix}\n",
    "1 & 2 & 4 \\\\ \n",
    "2 & 9 & 12 \\\\ \n",
    "3 & 26 & 30\n",
    "\\end{pmatrix}$$\n",
    "    \n",
    "   б)$$\\begin{pmatrix}\n",
    "1 & 1 & 2 & 4\\\\ \n",
    "2 & 5 & 8 & 9\\\\ \n",
    "3 & 18 & 29 & 18\\\\\n",
    "4 & 22 & 53 & 33\n",
    "\\end{pmatrix}$$"
   ]
  },
  {
   "cell_type": "markdown",
   "id": "237c5309",
   "metadata": {},
   "source": [
    "___Решение___"
   ]
  },
  {
   "cell_type": "markdown",
   "id": "7b0a9db8",
   "metadata": {},
   "source": [
    "   __а)__ $$\\begin{pmatrix}\n",
    "1 & 2 & 4 \\\\ \n",
    "2 & 9 & 12 \\\\ \n",
    "3 & 26 & 30\n",
    "\\end{pmatrix}$$"
   ]
  },
  {
   "cell_type": "markdown",
   "id": "84dd465e",
   "metadata": {},
   "source": [
    "Умножим первую строку на 2 и вычтем из второй, умножим первую строку на 3 и вычтем из третьей:\n",
    "\n",
    "$$U = \\begin{pmatrix}\n",
    "1 & 2 & 4 \\\\ \n",
    "0 & 5 & 4 \\\\ \n",
    "0 & 20 & 18\n",
    "\\end{pmatrix}, \\; L = \\begin{pmatrix}\n",
    "1 & 0 & 0 \\\\ \n",
    "2 & l_{22} & 0 \\\\ \n",
    "3 & l_{32} & l_{33}\n",
    "\\end{pmatrix}$$ "
   ]
  },
  {
   "cell_type": "markdown",
   "id": "b0a78884",
   "metadata": {},
   "source": [
    "Умножим вторую строку на 4 и вычтем из третьей:\n",
    "\n",
    "$$U = \\begin{pmatrix}\n",
    "1 & 2 & 4 \\\\ \n",
    "0 & 5 & 4 \\\\ \n",
    "0 & 0 & 2\n",
    "\\end{pmatrix}, \\; L = \\begin{pmatrix}\n",
    "1 & 0 & 0 \\\\ \n",
    "2 & 1 & 0 \\\\ \n",
    "3 & 4 & 1\n",
    "\\end{pmatrix}$$ "
   ]
  },
  {
   "cell_type": "markdown",
   "id": "78de7ded",
   "metadata": {},
   "source": [
    "Проверка:"
   ]
  },
  {
   "cell_type": "code",
   "execution_count": 4,
   "id": "d52b0496",
   "metadata": {
    "scrolled": true
   },
   "outputs": [
    {
     "name": "stdout",
     "output_type": "stream",
     "text": [
      "A-LU=\n",
      "[[0 0 0]\n",
      " [0 0 0]\n",
      " [0 0 0]]\n"
     ]
    }
   ],
   "source": [
    "A = np.array([[1,2,4], [2,9,12], [3,26,30]])\n",
    "L = np.array([[1,0,0], [2,1,0], [3,4,1]])\n",
    "U = np.array([[1,2,4], [0,5,4], [0,0,2]])\n",
    "print(f\"A-LU=\\n{A - np.dot(L, U)}\")"
   ]
  },
  {
   "cell_type": "markdown",
   "id": "d9b5ebcf",
   "metadata": {},
   "source": [
    "   __б)__ $$\\begin{pmatrix}\n",
    "1 & 1 & 2 & 4\\\\ \n",
    "2 & 5 & 8 & 9\\\\ \n",
    "3 & 18 & 29 & 18\\\\\n",
    "4 & 22 & 53 & 33\n",
    "\\end{pmatrix}$$"
   ]
  },
  {
   "cell_type": "markdown",
   "id": "27d9012a",
   "metadata": {},
   "source": [
    "Умножим первую строку на 2 и вычтем из второй, умножим первую строку на 3 и вычтем из третьей? умножим первую строку на 4 и вычтем из четвертой:\n",
    "\n",
    "$$U = \\begin{pmatrix}\n",
    "1 & 1 & 2 & 4\\\\ \n",
    "0 & 3 & 4 & 1\\\\ \n",
    "0 & 15 & 23 & 6\\\\\n",
    "0 & 18 & 45 & 17\n",
    "\\end{pmatrix}, \\; L = \\begin{pmatrix}\n",
    "1 & 0 & 0 & 0\\\\ \n",
    "2 & l_{22} & 0 & 0\\\\ \n",
    "3 & l_{32} & l_{33} & 0\\\\\n",
    "4 & l_{42} & l_{43} & l_{44}\\\\\n",
    "\\end{pmatrix}$$ "
   ]
  },
  {
   "cell_type": "markdown",
   "id": "52d38526",
   "metadata": {},
   "source": [
    "Умножим вторую строку на 5 и вычтем из третьей, умножим вторую строку на 6 и вычтем из четвертой:\n",
    "\n",
    "$$U = \\begin{pmatrix}\n",
    "1 & 1 & 2 & 4\\\\ \n",
    "0 & 3 & 4 & 1\\\\ \n",
    "0 & 0 & 3 & 1\\\\\n",
    "0 & 0 & 21 & 11\n",
    "\\end{pmatrix}, \\; L = \\begin{pmatrix}\n",
    "1 & 0 & 0 & 0\\\\ \n",
    "2 & 1 & 0 & 0\\\\ \n",
    "3 & 5 & l_{33} & 0\\\\\n",
    "4 & 6 & l_{43} & l_{44}\\\\\n",
    "\\end{pmatrix}$$ "
   ]
  },
  {
   "cell_type": "markdown",
   "id": "42047a50",
   "metadata": {},
   "source": [
    "Умножим третью строку на 7 и вычтем из четвертой:\n",
    "\n",
    "$$U = \\begin{pmatrix}\n",
    "1 & 1 & 2 & 4\\\\ \n",
    "0 & 3 & 4 & 1\\\\ \n",
    "0 & 0 & 3 & 1\\\\\n",
    "0 & 0 & 0 & 4\n",
    "\\end{pmatrix}, \\; L = \\begin{pmatrix}\n",
    "1 & 0 & 0 & 0\\\\ \n",
    "2 & 1 & 0 & 0\\\\ \n",
    "3 & 5 & 1 & 0\\\\\n",
    "4 & 6 & 7 & 1\\\\\n",
    "\\end{pmatrix}$$ "
   ]
  },
  {
   "cell_type": "markdown",
   "id": "448c744f",
   "metadata": {},
   "source": [
    "Проверка:"
   ]
  },
  {
   "cell_type": "code",
   "execution_count": 5,
   "id": "3b88faa3",
   "metadata": {},
   "outputs": [
    {
     "name": "stdout",
     "output_type": "stream",
     "text": [
      "A-LU=\n",
      "[[0 0 0 0]\n",
      " [0 0 0 0]\n",
      " [0 0 0 0]\n",
      " [0 0 0 0]]\n"
     ]
    }
   ],
   "source": [
    "A = np.array([[1,1,2,4], [2,5,8,9], [3,18,29,18], [4,22,53,33]])\n",
    "L = np.array([[1,0,0,0], [2,1,0,0], [3,5,1,0], [4,6,7,1]])\n",
    "U = np.array([[1,1,2,4], [0,3,4,1], [0,0,3,1], [0,0,0,4]])\n",
    "print(f\"A-LU=\\n{A - np.dot(L, U)}\")"
   ]
  },
  {
   "cell_type": "markdown",
   "id": "5c1a7dd1",
   "metadata": {},
   "source": [
    "___Ответ:___ \n",
    "\n",
    "___а)___ $L = \\begin{pmatrix}\n",
    "1 & 0 & 0 \\\\ \n",
    "2 & 1 & 0 \\\\ \n",
    "3 & 4 & 1\n",
    "\\end{pmatrix}$\n",
    "\n",
    "___б)___ $L = \\begin{pmatrix}\n",
    "1 & 0 & 0 & 0\\\\ \n",
    "2 & 1 & 0 & 0\\\\ \n",
    "3 & 5 & 1 & 0\\\\\n",
    "4 & 6 & 7 & 1\\\\\n",
    "\\end{pmatrix}$"
   ]
  },
  {
   "cell_type": "markdown",
   "id": "bc96769d",
   "metadata": {},
   "source": [
    "---"
   ]
  },
  {
   "cell_type": "markdown",
   "id": "daa89cdd",
   "metadata": {},
   "source": [
    "## Задание 3*\n",
    "\n",
    "Решите систему линейных уравнений методом $LU$-разложения:\n",
    "\n",
    "$$\\begin{cases}\n",
    "2x_{1}+x_{2}+3x_{3}=1 \\\\\n",
    "11x_{1}+7x_{2}+5x_{3}=-6 \\\\\n",
    "9x_{1}+8x_{2}+4x_{3}=-5\n",
    "\\end{cases}$$"
   ]
  },
  {
   "cell_type": "markdown",
   "id": "a95dcf5e",
   "metadata": {},
   "source": [
    "___Решение___"
   ]
  },
  {
   "cell_type": "markdown",
   "id": "11cf55ed",
   "metadata": {},
   "source": [
    "$$A=\\begin{pmatrix}\n",
    "2 & 1 & 3\\\\\n",
    "11 & 7 & 5\\\\\n",
    "9 & 8 & 4\n",
    "\\end{pmatrix}, \\; b=\\begin{pmatrix}\n",
    "1\\\\\n",
    "-6 \\\\\n",
    "-5\n",
    "\\end{pmatrix}$$"
   ]
  },
  {
   "cell_type": "markdown",
   "id": "15c05de1",
   "metadata": {},
   "source": [
    "Найдем матрицы $L$ и $U$:"
   ]
  },
  {
   "cell_type": "markdown",
   "id": "1adfc1f9",
   "metadata": {},
   "source": [
    "$$U = \\begin{pmatrix}\n",
    "2 & 1 & 3\\\\ \n",
    "11 & 7 & 5\\\\ \n",
    "9 & 8 & 4\n",
    "\\end{pmatrix}, \\; L = \\begin{pmatrix}\n",
    "l_{11} & 0 & 0 \\\\ \n",
    "l_{21} & l_{22} & 0 \\\\ \n",
    "l_{31} & l_{32} & l_{33}\n",
    "\\end{pmatrix}$$ "
   ]
  },
  {
   "cell_type": "markdown",
   "id": "45a28d9c",
   "metadata": {},
   "source": [
    "$$U = \\begin{pmatrix}\n",
    "2 & 1 & 3\\\\ \n",
    "0 & 1.5 & -11.5\\\\ \n",
    "0 & 3.5 & -9.5\n",
    "\\end{pmatrix}, \\; L = \\begin{pmatrix}\n",
    "1 & 0 & 0 \\\\ \n",
    "5.5 & l_{22} & 0 \\\\ \n",
    "4.5 & l_{32} & l_{33}\n",
    "\\end{pmatrix}$$ "
   ]
  },
  {
   "cell_type": "markdown",
   "id": "d8598a85",
   "metadata": {},
   "source": [
    "$$U = \\begin{pmatrix}\n",
    "2 & 1 & 3\\\\ \n",
    "0 & 1.5 & -11.5\\\\ \n",
    "0 & 0 & \\frac{52}{3}\n",
    "\\end{pmatrix}, \\; L = \\begin{pmatrix}\n",
    "1 & 0 & 0 \\\\ \n",
    "5.5 & 1 & 0 \\\\ \n",
    "4.5 & \\frac{7}{3} & 1\n",
    "\\end{pmatrix}$$ "
   ]
  },
  {
   "cell_type": "markdown",
   "id": "dea864e5",
   "metadata": {},
   "source": [
    "Находим $y$: \n",
    "\n",
    "$$Ly=b$$\n",
    "\n",
    "$$\\begin{pmatrix}\n",
    "1 & 0 & 0 \\\\ \n",
    "5.5 & 1 & 0 \\\\ \n",
    "4.5 & \\frac{7}{3} & 1\n",
    "\\end{pmatrix} \\begin{pmatrix}\n",
    "y_{1}\\\\\n",
    "y_{2} \\\\\n",
    "y_{3}\n",
    "\\end{pmatrix} = \\begin{pmatrix}\n",
    "1\\\\\n",
    "-6 \\\\\n",
    "-5\n",
    "\\end{pmatrix}\n",
    "$$"
   ]
  },
  {
   "cell_type": "markdown",
   "id": "80c380a0",
   "metadata": {},
   "source": [
    "$$\\begin{cases}\n",
    "y_{1} = 1 \\\\\n",
    "y_{2} = -6 - 5.5y_{1} \\\\\n",
    "y_{3} = -5 - 4.5y_{1} - \\frac{7}{3}y_{2}\n",
    "\\end{cases}$$"
   ]
  },
  {
   "cell_type": "markdown",
   "id": "2f9dc99d",
   "metadata": {},
   "source": [
    "$$y_{1}=1$$\n",
    "$$y_{2}=-11.5$$\n",
    "$$y_{3}=\\frac{52}{3}$$"
   ]
  },
  {
   "cell_type": "markdown",
   "id": "7c036173",
   "metadata": {},
   "source": [
    "Находим $x$ обратной подстановкой:\n",
    "\n",
    "$$Ux=y$$\n",
    "\n",
    "$$\\begin{pmatrix}\n",
    "2 & 1 & 3 \\\\ \n",
    "0 & 1.5 & -11.5 \\\\ \n",
    "0 & 0 & \\frac{52}{3}\n",
    "\\end{pmatrix} \\begin{pmatrix}\n",
    "x_{1}\\\\\n",
    "x_{2} \\\\\n",
    "x_{3}\n",
    "\\end{pmatrix} = \\begin{pmatrix}\n",
    "1\\\\\n",
    "-11.5 \\\\\n",
    "\\frac{52}{3}\n",
    "\\end{pmatrix}\n",
    "$$"
   ]
  },
  {
   "cell_type": "markdown",
   "id": "779e94f1",
   "metadata": {},
   "source": [
    "$$\\begin{cases}\n",
    "x_1 = \\frac{1-3}{2}\\\\\n",
    "x_2 = 0\\\\\n",
    "x_3 = 1\n",
    "\\end{cases}$$"
   ]
  },
  {
   "cell_type": "markdown",
   "id": "d2f26c55",
   "metadata": {},
   "source": [
    "$$x_{1}=-1$$\n",
    "$$x_{2}=0$$\n",
    "$$x_{3}=1$$"
   ]
  },
  {
   "cell_type": "markdown",
   "id": "e3d59ef7",
   "metadata": {},
   "source": [
    "Проверка:"
   ]
  },
  {
   "cell_type": "code",
   "execution_count": 6,
   "id": "8d69a054",
   "metadata": {},
   "outputs": [
    {
     "data": {
      "text/plain": [
       "array([[-1.],\n",
       "       [ 0.],\n",
       "       [ 1.]])"
      ]
     },
     "execution_count": 6,
     "metadata": {},
     "output_type": "execute_result"
    }
   ],
   "source": [
    "A = np.array([[2,1,3], [11,7,5], [9,8,4]])\n",
    "b = np.array([[1], [-6], [-5]])\n",
    "np.linalg.solve(A, b)"
   ]
  },
  {
   "cell_type": "markdown",
   "id": "089591c8",
   "metadata": {},
   "source": [
    "___Ответ:___ $x = \\begin{pmatrix}-1\\\\ 0\\\\ 1 \\end{pmatrix}$"
   ]
  },
  {
   "cell_type": "markdown",
   "id": "7a7258d4",
   "metadata": {},
   "source": [
    "---"
   ]
  },
  {
   "cell_type": "markdown",
   "id": "f28a805d",
   "metadata": {},
   "source": [
    "## Задание 4*\n",
    "\n",
    "Решите систему линейных уравнений методом Холецкого:\n",
    "\n",
    "$$\\begin{cases}\n",
    "81x_{1}-45x_{2}+45x_{3}=531 \\\\\n",
    "-45x_{1}+50x_{2}-15x_{3}=-460 \\\\\n",
    "45x_{1}-15x_{2}+38x_{3}=193\n",
    "\\end{cases}$$"
   ]
  },
  {
   "cell_type": "markdown",
   "id": "8d9b772d",
   "metadata": {},
   "source": [
    "___Решение___"
   ]
  },
  {
   "cell_type": "markdown",
   "id": "363135e6",
   "metadata": {},
   "source": [
    "$$A=\\begin{pmatrix}\n",
    "81 & -45 & 45\\\\\n",
    "-45 & 50 & -15\\\\\n",
    "45 & -15 & 38\n",
    "\\end{pmatrix}, \\; b=\\begin{pmatrix}\n",
    "1\\\\\n",
    "-6 \\\\\n",
    "-5\n",
    "\\end{pmatrix}$$"
   ]
  },
  {
   "cell_type": "markdown",
   "id": "d659cac6",
   "metadata": {},
   "source": [
    "Матрица $A$ симметричная, $A=A^{T}$. Для решения системы воспользуемся  методом Холецкого.\n",
    "\n",
    "$$A=LL^{T}$$\n",
    "$$l_{ii}=\\sqrt{a_{ii}-\\sum_{k=1}^{i-1}l_{ik}^{2}}$$\n",
    "$$l_{ij}=\\frac{1}{l_{jj}}\\left( a_{ij}-\\sum_{k=1}^{j-1}l_{ik}l_{jk}\\right ), \\; j < i$$"
   ]
  },
  {
   "cell_type": "markdown",
   "id": "260a9735",
   "metadata": {},
   "source": [
    "$$Ly=b$$\n",
    "$$L^{T}x=y$$"
   ]
  },
  {
   "cell_type": "markdown",
   "id": "ad201ac9",
   "metadata": {},
   "source": [
    "Произведём разложение на $LL^{T}$:"
   ]
  },
  {
   "cell_type": "markdown",
   "id": "09eff28a",
   "metadata": {},
   "source": [
    "$$l_{11}=\\sqrt{a_{11}}=\\sqrt{81} = 9$$\n",
    "$$l_{21}=\\frac{a_{21}}{l_{11}}=\\frac{-45}{9}=-5$$\n",
    "$$l_{31}=\\frac{a_{31}}{l_{11}}=\\frac{45}{9}=5$$\n",
    "\n",
    "$$l_{22}=\\sqrt{a_{22}-l_{21}^{2}}=\\sqrt{50 - 25}=5$$\n",
    "$$l_{32}=\\frac{1}{l_{22}}\\left ( a_{32}-l_{31}l_{21}\\right)=\\frac{1}{5}\\cdot (-15 + 5\\cdot 5)=2$$\n",
    "\n",
    "$$l_{33}=\\sqrt{a_{33}-l_{31}^{2}-l_{32}^{2}}=\\sqrt{38-25-4}=3$$"
   ]
  },
  {
   "cell_type": "markdown",
   "id": "97016f59",
   "metadata": {},
   "source": [
    "Получили матрицу:\n",
    "\n",
    "$$L = \\begin{pmatrix}\n",
    "9 & 0 & 0\\\\ \n",
    "-5 & 5 & 0\\\\ \n",
    "5 & 2 & 3\n",
    "\\end{pmatrix}, \n",
    "\\; \\; \n",
    "L^{T} = \\begin{pmatrix}\n",
    "9 & -5 & 5\\\\ \n",
    "0 & 5 & 2\\\\ \n",
    "0 & 0 & 3\n",
    "\\end{pmatrix}$$"
   ]
  },
  {
   "cell_type": "markdown",
   "id": "9621b1f0",
   "metadata": {},
   "source": [
    "Решим систему $Ly=b:$\n",
    "\n",
    "$$\\begin{cases}\n",
    "y_1 = \\frac{1}{9}\\\\\n",
    "y_2 = \\frac{-6 + 5y_1}{5}\\\\\n",
    "y_3 = \\frac{-5 -5y_1 -2y_{2}}{3}\n",
    "\\end{cases}$$\n",
    "\n",
    "$$y_{1} = \\frac{1}{9}$$\n",
    "$$y_{2} = -\\frac{49}{45}$$\n",
    "$$y_{3} = -\\frac{152}{135}$$"
   ]
  },
  {
   "cell_type": "markdown",
   "id": "005f3675",
   "metadata": {},
   "source": [
    "И решим систему $L^{T}x=y:$\n",
    "\n",
    "$$\\begin{cases}\n",
    "x_3 = \\\\\n",
    "x_2 = -\\frac{49}{225}-\\frac{2}{5} x_{3}\\\\\n",
    "x_3 = - \\frac{152}{405}\n",
    "\\end{cases}$$\n",
    "\n",
    "$$x_{3}=- \\frac{152}{405} = -0.37530864$$\n",
    "\n",
    "$$x_{2}=-\\frac{49}{225} + \\frac{2}{5} \\cdot \\frac{152}{405} = -0.06765432$$\n",
    "\n",
    "$$x_{1}=\\frac{\\frac{1}{9} + 5x_2 - 5x_3}{9}=0.18326475$$"
   ]
  },
  {
   "cell_type": "markdown",
   "id": "206caf48",
   "metadata": {},
   "source": [
    "Проверка:"
   ]
  },
  {
   "cell_type": "code",
   "execution_count": 7,
   "id": "6da77bf1",
   "metadata": {
    "scrolled": true
   },
   "outputs": [
    {
     "name": "stdout",
     "output_type": "stream",
     "text": [
      "L=\n",
      "[[ 9.  0.  0.]\n",
      " [-5.  5.  0.]\n",
      " [ 5.  2.  3.]]\n",
      "L_T=\n",
      "[[ 9. -5.  5.]\n",
      " [ 0.  5.  2.]\n",
      " [ 0.  0.  3.]]\n"
     ]
    }
   ],
   "source": [
    "A = np.array([[81,-45,45], [-45,50,-15], [45,-15,38]])\n",
    "L = np.linalg.cholesky(A)\n",
    "L_T = L.T\n",
    "print(f\"L=\\n{L}\")\n",
    "print(f\"L_T=\\n{L_T}\")"
   ]
  },
  {
   "cell_type": "code",
   "execution_count": 8,
   "id": "0401ba0f",
   "metadata": {},
   "outputs": [
    {
     "name": "stdout",
     "output_type": "stream",
     "text": [
      "x_1=0.18326475\n",
      "x_2=-0.06765432\n",
      "x_3=-0.37530864\n"
     ]
    }
   ],
   "source": [
    "x_2 = -49/225 + 2/5 * 152/405\n",
    "x_3 = - 152/405\n",
    "x_1 = (1/9 + 5*x_2 - 5*x_3)/9\n",
    "print(f\"x_1={np.round(x_1, 8)}\")\n",
    "print(f\"x_2={np.round(x_2, 8)}\")\n",
    "print(f\"x_3={np.round(x_3, 8)}\")"
   ]
  },
  {
   "cell_type": "code",
   "execution_count": 9,
   "id": "37d310a8",
   "metadata": {},
   "outputs": [
    {
     "data": {
      "text/plain": [
       "array([ 0.18326475, -0.06765432, -0.37530864])"
      ]
     },
     "execution_count": 9,
     "metadata": {},
     "output_type": "execute_result"
    }
   ],
   "source": [
    "b = np.array([1, -6, -5])\n",
    "np.linalg.solve(A, b)"
   ]
  },
  {
   "cell_type": "markdown",
   "id": "8d9e52aa",
   "metadata": {},
   "source": [
    "___Ответ:___ $x = \\begin{pmatrix}0.18326475\\\\ -0.06765432\\\\ -0.37530864 \\end{pmatrix}$"
   ]
  },
  {
   "cell_type": "markdown",
   "id": "e2aefce7",
   "metadata": {},
   "source": [
    "---"
   ]
  },
  {
   "cell_type": "markdown",
   "id": "70e6f482",
   "metadata": {},
   "source": [
    "## Задание 5*\n",
    "\n",
    "Напишите на Python программу с реализацией одного из изученных алгоритмов решения СЛАУ."
   ]
  },
  {
   "cell_type": "markdown",
   "id": "d6355871",
   "metadata": {},
   "source": [
    "___Решение___"
   ]
  },
  {
   "cell_type": "markdown",
   "id": "4ba009f5",
   "metadata": {},
   "source": [
    "_Реализация метода Крамера для решения СЛАУ._\n",
    "\n",
    "Для системы с $n$ уравнениями и $n$ неизвестными, если система уравнений не вырождена ($detA\\neq 0$), то система определена, то есть имеет единственное решение, и это решение может быть найдено по формуле Крамера:\n",
    "\n",
    "$$x_{i}=\\frac{detA_{i}}{detA},$$\n",
    "\n",
    "где $A_{i}$ — это матрица, получаемая заменой $i$-го столбца на вектор-столбец свободных членов $b$."
   ]
  },
  {
   "cell_type": "code",
   "execution_count": 10,
   "id": "6a4e32ae",
   "metadata": {},
   "outputs": [],
   "source": [
    "def minor(A, i, j):\n",
    "    M = copy.deepcopy(A) \n",
    "    del M[i]\n",
    "    for i in range(len(A[0])-1):\n",
    "        del M[i][j]\n",
    "    return M   "
   ]
  },
  {
   "cell_type": "code",
   "execution_count": 11,
   "id": "5d7745e2",
   "metadata": {},
   "outputs": [],
   "source": [
    "def det(A: list) -> float:\n",
    "    '''\n",
    "    Calculation of the matrix determinant without checking the dimension.\n",
    "    '''\n",
    "    n = len(A[0])\n",
    "    if n == 1:\n",
    "        return A[0][0]\n",
    "    signum = 1\n",
    "    determinant = 0\n",
    "    for j in range(n):\n",
    "        determinant += A[0][j]*signum*det(minor(A, 0, j)) \n",
    "        signum *= -1\n",
    "    return determinant"
   ]
  },
  {
   "cell_type": "code",
   "execution_count": 12,
   "id": "413ec289",
   "metadata": {},
   "outputs": [],
   "source": [
    "def solve_cramer(A: list, B: list) -> list:\n",
    "    '''\n",
    "    A function that implements Cramer's rule for solving a system of linear equations. \n",
    "    If the multiplication condition is not met, an error will be generated.\n",
    "    '''\n",
    "    if type(A[0]) != list:\n",
    "        print(f\"The A list must be two-dimensional.\")\n",
    "        return\n",
    "    if type(B[0]) == list:\n",
    "        print(f\"The B list must be one-dimensional.\")\n",
    "        return\n",
    "    ncols = len(A[0])\n",
    "    nrows = len(A)\n",
    "    a_shape = (nrows, ncols)\n",
    "    b_shape = (len(B), 1)\n",
    "    if a_shape[0] != a_shape[1]:\n",
    "        print(f\"The matrix is not square: {a_shape}. Cramer's method is not applicable.\")\n",
    "        return\n",
    "    if b_shape[0] != a_shape[1]:\n",
    "        print(f\"Shapes {a_shape} and {b_shape} not aligned: {a_shape[1]} (dim 1) != {b_shape[0]} (dim 0)\")\n",
    "        return\n",
    "    \n",
    "    # n=1\n",
    "    if ncols == 1:\n",
    "        return [B[0]/A[0][0]]\n",
    "    \n",
    "    # n>1\n",
    "    det_A = det(A)\n",
    "    X = []\n",
    "    for j in range(ncols):\n",
    "        replacement_matrix = copy.deepcopy(A)\n",
    "        for i in range(nrows):\n",
    "            replacement_matrix[i][j] = B[i]\n",
    "        det_rep_matrix = det(replacement_matrix)\n",
    "        x_j = det_rep_matrix/det_A\n",
    "        X.append(x_j)\n",
    "    return X    "
   ]
  },
  {
   "cell_type": "markdown",
   "id": "0862af70",
   "metadata": {},
   "source": [
    "Проверка:"
   ]
  },
  {
   "cell_type": "markdown",
   "id": "b9276cad",
   "metadata": {},
   "source": [
    "№1"
   ]
  },
  {
   "cell_type": "code",
   "execution_count": 13,
   "id": "f0484f8a",
   "metadata": {},
   "outputs": [
    {
     "data": {
      "text/plain": [
       "[3.0, 4.0, 5.0]"
      ]
     },
     "execution_count": 13,
     "metadata": {},
     "output_type": "execute_result"
    }
   ],
   "source": [
    "A = [[1,2,4],[5,1,2],[3,-1,1]]\n",
    "B = [31, 29, 10]\n",
    "solve_cramer(A, B)"
   ]
  },
  {
   "cell_type": "code",
   "execution_count": 14,
   "id": "642a92a7",
   "metadata": {},
   "outputs": [
    {
     "data": {
      "text/plain": [
       "array([3., 4., 5.])"
      ]
     },
     "execution_count": 14,
     "metadata": {},
     "output_type": "execute_result"
    }
   ],
   "source": [
    "np.linalg.solve(A, B)"
   ]
  },
  {
   "cell_type": "markdown",
   "id": "c7948c37",
   "metadata": {},
   "source": [
    "№2"
   ]
  },
  {
   "cell_type": "code",
   "execution_count": 15,
   "id": "03c3fc2c",
   "metadata": {},
   "outputs": [
    {
     "data": {
      "text/plain": [
       "[9.0, 18.0, 10.0, -16.0]"
      ]
     },
     "execution_count": 15,
     "metadata": {},
     "output_type": "execute_result"
    }
   ],
   "source": [
    "A = [[1,-1,3,1],[4,-1,5,4],[2,-2,4,1],[1,-4,5,-1]]\n",
    "B = [5, 4, 6, 3]\n",
    "solve_cramer(A, B)"
   ]
  },
  {
   "cell_type": "code",
   "execution_count": 16,
   "id": "37913674",
   "metadata": {},
   "outputs": [
    {
     "data": {
      "text/plain": [
       "array([  9.,  18.,  10., -16.])"
      ]
     },
     "execution_count": 16,
     "metadata": {},
     "output_type": "execute_result"
    }
   ],
   "source": [
    "np.linalg.solve(A, B)"
   ]
  },
  {
   "cell_type": "markdown",
   "id": "54f9941d",
   "metadata": {},
   "source": [
    "---"
   ]
  }
 ],
 "metadata": {
  "kernelspec": {
   "display_name": "Python 3 (ipykernel)",
   "language": "python",
   "name": "python3"
  },
  "language_info": {
   "codemirror_mode": {
    "name": "ipython",
    "version": 3
   },
   "file_extension": ".py",
   "mimetype": "text/x-python",
   "name": "python",
   "nbconvert_exporter": "python",
   "pygments_lexer": "ipython3",
   "version": "3.8.8"
  }
 },
 "nbformat": 4,
 "nbformat_minor": 5
}
