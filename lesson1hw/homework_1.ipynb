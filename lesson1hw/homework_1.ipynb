{
 "cells": [
  {
   "cell_type": "markdown",
   "id": "b13f7001",
   "metadata": {},
   "source": [
    "# Практическое задание №1 по теме \"Линейное пространство\". Часть 1"
   ]
  },
  {
   "cell_type": "markdown",
   "id": "23f278c4",
   "metadata": {
    "id": "NaYoffkueD8U"
   },
   "source": [
    "## Задание 1\n",
    "\n",
    "Исследовать на линейную зависимость:\n",
    "\n",
    "$$f_{1}(x)=e^{x}, f_{2}(x)=1, f_{3}(x)=x+1, f_{4}(x)=x-e^{x}.$$\n"
   ]
  },
  {
   "cell_type": "markdown",
   "id": "f9432e32",
   "metadata": {},
   "source": [
    "___Решение___"
   ]
  },
  {
   "cell_type": "markdown",
   "id": "f6c41a5c",
   "metadata": {},
   "source": [
    "Заметим, что $f_{4}(x) = - f_{1}(x) - f_{2}(x) + f_{3}(x)$, то есть вектор $f_{4}(x)$ — линейная комбинация векторов $f_{1}(x)$, $f_{2}(x)$ и $f_{3}(x)$, из чего можно сделать вывод, что $f_{1}(x)$, $f_{2}(x)$, $f_{3}(x)$, $f_{4}(x)$ - ЛЗ."
   ]
  },
  {
   "cell_type": "markdown",
   "id": "ca68037d",
   "metadata": {},
   "source": [
    "---"
   ]
  },
  {
   "cell_type": "markdown",
   "id": "a5f216a4",
   "metadata": {
    "id": "cECfCSANkVqR"
   },
   "source": [
    "## Задание 2\n",
    "\n",
    "Исследовать на линейную зависимость:\n",
    "\n",
    "$$f_{1}(x)=2, f_{2}(x)=x, f_{3}(x)=x^{2}, f_{4}(x)=(x+1)^{2}$$"
   ]
  },
  {
   "cell_type": "markdown",
   "id": "f6042ec4",
   "metadata": {},
   "source": [
    "___Решение___"
   ]
  },
  {
   "cell_type": "markdown",
   "id": "2d08e85f",
   "metadata": {},
   "source": [
    "Заметим, что $f_{4}(x) = 1 + 2x + x^2 = 0.5f_{1}(x) + 2f_{2}(x) + f_{3}(x)$, то есть вектор $f_{4}(x)$ — линейная комбинация векторов $f_{1}(x)$, $f_{2}(x)$ и $f_{3}(x)$, из чего можно сделать вывод, что $f_{1}(x)$, $f_{2}(x)$, $f_{3}(x)$, $f_{4}(x)$ - ЛЗ."
   ]
  },
  {
   "cell_type": "markdown",
   "id": "7328a230",
   "metadata": {},
   "source": [
    "---"
   ]
  },
  {
   "cell_type": "markdown",
   "id": "ee96732a",
   "metadata": {
    "id": "DFrjdtbHkVqS"
   },
   "source": [
    "## Задание 3\n",
    "\n",
    "Найти координаты вектора $x = (2, 3, 5)\\in \\mathbb{R}^{3}$ в базисе $b_{1}=(0, 0, 10)$, $b_{2}=(2, 0, 0)$, $b_{3}=(0, 1, 0)$.\n"
   ]
  },
  {
   "cell_type": "markdown",
   "id": "06019e53",
   "metadata": {},
   "source": [
    "___Решение___"
   ]
  },
  {
   "cell_type": "markdown",
   "id": "4cf8bc06",
   "metadata": {},
   "source": [
    "$$x=(2, 3, 5)= (2,0,0) + (0, 3, 0) + (0, 0, 5) = (2, 0, 0)+3\\cdot(0, 1, 0)+ 0.5\\cdot(0, 0, 10)= 0.5b_{1} + b_{2} + 3b_{3}$$"
   ]
  },
  {
   "cell_type": "markdown",
   "id": "ab99a164",
   "metadata": {},
   "source": [
    "---"
   ]
  },
  {
   "cell_type": "markdown",
   "id": "9ee69eb9",
   "metadata": {
    "id": "5la-eVLukVqT"
   },
   "source": [
    "## Задание 4\n",
    "\n",
    "Найти координаты вектора $3x^{2}-2x+2\\in\\mathbb{R}^{3}[x]$:\n",
    "\n",
    "а) в базисе $1$, $x$, $x^{2}$;\n",
    "\n",
    "б) в базисе $x^{2}$, $x-1$, $1$."
   ]
  },
  {
   "cell_type": "markdown",
   "id": "3435e9c2",
   "metadata": {},
   "source": [
    "___Решение___"
   ]
  },
  {
   "cell_type": "markdown",
   "id": "56328a4f",
   "metadata": {},
   "source": [
    "__a)__ Базис: $e_{1}=1$, $e_{2}=x$, $e_{3}=x^2$\n",
    "\n",
    "$$3x^{2}-2x+2 = 2e_{1} - 2e_{2} + 3e_{3}$$"
   ]
  },
  {
   "cell_type": "markdown",
   "id": "d00a017d",
   "metadata": {},
   "source": [
    "__б)__ Базис: $e_{1}=x^2$, $e_{2}=x-1$, $e_{3}=1$\n",
    "\n",
    "$$3x^{2}-2x+2 = 3e_{1} - 2e_{2}$$"
   ]
  },
  {
   "cell_type": "markdown",
   "id": "a3883c44",
   "metadata": {},
   "source": [
    "---"
   ]
  },
  {
   "cell_type": "markdown",
   "id": "9bbe5916",
   "metadata": {
    "id": "kQlell_GkVqU"
   },
   "source": [
    "## Задание 5\n",
    "\n",
    "Установить, является ли линейным подпространством:\n",
    "\n",
    "а) совокупность всех векторов трехмерного пространства, у которых по крайней мере одна из первых двух координат равна нулю;\n",
    "    \n",
    "б) все векторы, являющиеся линейными комбинациями данных векторов $\\{u_{1}, u_{2}, \\ldots, u_{n}\\}$."
   ]
  },
  {
   "cell_type": "markdown",
   "id": "ae897135",
   "metadata": {},
   "source": [
    "___Решение___"
   ]
  },
  {
   "cell_type": "markdown",
   "id": "948ef15e",
   "metadata": {},
   "source": [
    "__а)__ совокупность всех векторов трехмерного пространства, у которых по крайней мере одна из первых двух координат равна нулю, т.е. $(0, a, b)$ или $(c, 0, b)$;\n",
    "\n",
    "$$(0, a, b)+(0, c, d) = (0, a+c, b+d),$$ \n",
    "$$\\alpha\\cdot (0, a, b) = (0, \\alpha a, \\alpha b).$$\n",
    "\n",
    "$$(0, a, b)+(c, 0, d) = (c, a, b+d),$$ \n",
    "$$\\alpha\\cdot (c, 0, b) = (\\alpha c, 0, \\alpha b).$$\n",
    " \n",
    "Не все полученные векторы уже принадлежат указанному в задании множеству всех векторов вида $(0, a, b)$ или $(c, 0, b)$, то есть данное множество не является линейным подпространством."
   ]
  },
  {
   "cell_type": "markdown",
   "id": "901b68de",
   "metadata": {},
   "source": [
    "___Ответ:___ Не является."
   ]
  },
  {
   "cell_type": "markdown",
   "id": "0d82c3a3",
   "metadata": {},
   "source": [
    "__б)__ все векторы, являющиеся линейными комбинациями данных векторов $\\{u_{1}, u_{2}, \\ldots, u_{n}\\}$.\n",
    "\n",
    "Пусть \n",
    "$$x = \\sum_{i=1}^{n} \\alpha_{i}u_{i}, \\; y =  \\sum_{i=1}^{n} \\beta_{i}u_{i}$$\n",
    "\n",
    "Проверим сумму\n",
    "$$ x + y =  \\sum_{i=1}^{n} \\alpha_{i}u_{i} + \\sum_{i=1}^{n} \\beta_{i}u_{i} = \\sum_{i=1}^{n} (\\alpha_{i} + \\beta_{i})u_{i} = \\sum_{i=1}^{n} \\gamma_{i}u_{i} \\; $$\n",
    "\n",
    "$$(\\gamma_{i} = a_{i}+b_{i}, \\; \\gamma_{i} \\in \\mathbb{R})$$\n",
    "\n",
    "Проверим умножение на скаляр\n",
    "$$\\beta \\cdot x = \\beta \\cdot \\sum_{i=1}^{n} \\alpha_{i}u_{i} = \\sum_{i=1}^{n} \\beta \\cdot \\alpha_{i}u_{i} = \\sum_{i=1}^{n} \\gamma_{i}u_{i}$$\n",
    "\n",
    "$$(\\gamma_{i} = \\beta \\cdot a_{i}, \\; \\gamma_{i} \\in \\mathbb{R})$$\n",
    "\n",
    "Полученные векторы также принадлежат указанному в задании множеству всех векторов вида $\\sum_{i=1}^{n} \\alpha_{i}u_{i}$, то есть данное множество является линейным подпространством."
   ]
  },
  {
   "cell_type": "markdown",
   "id": "a4c32270",
   "metadata": {},
   "source": [
    "___Ответ:___ Является."
   ]
  },
  {
   "cell_type": "markdown",
   "id": "3722d1b1",
   "metadata": {},
   "source": [
    "---"
   ]
  },
  {
   "cell_type": "markdown",
   "id": "0cfc6d03",
   "metadata": {},
   "source": [
    "# Практическое задание №1 по теме \"Линейное пространство\". Часть 2"
   ]
  },
  {
   "cell_type": "code",
   "execution_count": 1,
   "id": "63fe6130",
   "metadata": {},
   "outputs": [],
   "source": [
    "import numpy as np\n",
    "from numpy.linalg import norm"
   ]
  },
  {
   "cell_type": "markdown",
   "id": "741fd351",
   "metadata": {},
   "source": [
    "## Задание 1 \n",
    "\n",
    "Найти скалярное произведение векторов $x, y \\in \\mathbb{R}$:<br>\n",
    "а) $x=(0,-3, 6),~y=(-4, 7, 9);$<br>\n",
    "б) $x=(7, -4, 0, 1),~y=(-3, 1, 11, 2).$"
   ]
  },
  {
   "cell_type": "markdown",
   "id": "0428a235",
   "metadata": {},
   "source": [
    "___Решение___"
   ]
  },
  {
   "cell_type": "markdown",
   "id": "168a79bb",
   "metadata": {},
   "source": [
    "__a)__\n",
    "\n",
    "$$(x,y)=0\\cdot(-4) - 3\\cdot7 + 6\\cdot9 = 0 - 21 + 54= 33$$"
   ]
  },
  {
   "cell_type": "code",
   "execution_count": 2,
   "id": "52a8d864",
   "metadata": {},
   "outputs": [
    {
     "name": "stdout",
     "output_type": "stream",
     "text": [
      "Скалярное произведение x и y: 33\n"
     ]
    }
   ],
   "source": [
    "x = np.array([0, -3, 6])\n",
    "y = np.array([-4, 7, 9])\n",
    "print(f\"Скалярное произведение x и y: {np.dot(x, y)}\")"
   ]
  },
  {
   "cell_type": "markdown",
   "id": "d422b0e1",
   "metadata": {},
   "source": [
    "__б)__\n",
    "\n",
    "$$(x,y)=7\\cdot(-3) - 4\\cdot1 + 0\\cdot11 + 1\\cdot 2 = - 21 - 4 + 0 + 2= -23$$"
   ]
  },
  {
   "cell_type": "code",
   "execution_count": 3,
   "id": "f145c832",
   "metadata": {},
   "outputs": [
    {
     "name": "stdout",
     "output_type": "stream",
     "text": [
      "Скалярное произведение x и y: -23\n"
     ]
    }
   ],
   "source": [
    "x = np.array([7, -4, 0, 1])\n",
    "y = np.array([-3, 1, 11, 2])\n",
    "print(f\"Скалярное произведение x и y: {np.dot(x, y)}\")"
   ]
  },
  {
   "cell_type": "markdown",
   "id": "564c73ce",
   "metadata": {},
   "source": [
    "---"
   ]
  },
  {
   "cell_type": "markdown",
   "id": "36e58470",
   "metadata": {},
   "source": [
    "## Задание 2\n",
    "\n",
    "Найти нормы векторов $(4, 2, 4)$ и $(12, 3, 4)$ и угол между ними."
   ]
  },
  {
   "cell_type": "markdown",
   "id": "3e315572",
   "metadata": {},
   "source": [
    "___Решение___"
   ]
  },
  {
   "cell_type": "markdown",
   "id": "707e4c04",
   "metadata": {},
   "source": [
    "Найдем нормы векторов $x = (4, 2, 4)$, $y = (12, 3, 4)$\n",
    "\n",
    "$$\\left\\|x\\right\\|_{1} = |4|+|2|+|4|= 10$$\n",
    "$$\\left\\|x\\right\\|_{2} = \\sqrt{4^{2}+2^{2}+4^{2}}=\\sqrt{36}=6$$\n",
    "\n",
    "$$\\left\\|y\\right\\|_{1} = |12|+|3|+|4|= 19$$\n",
    "$$\\left\\|y\\right\\|_{2} = \\sqrt{12^{2}+3^{2}+4^{2}}=\\sqrt{169}=13$$"
   ]
  },
  {
   "cell_type": "code",
   "execution_count": 4,
   "id": "0e1d57f4",
   "metadata": {},
   "outputs": [],
   "source": [
    "x = np.array([4, 2, 4])\n",
    "y = np.array([12, 3, 4])"
   ]
  },
  {
   "cell_type": "code",
   "execution_count": 5,
   "id": "9f38fdd5",
   "metadata": {},
   "outputs": [
    {
     "name": "stdout",
     "output_type": "stream",
     "text": [
      "l1 Манхетовская норма вектора x: 10.0\n",
      "l2 Евклидова норма вектора x: 6.0\n"
     ]
    }
   ],
   "source": [
    "x_l1 = norm(x, ord=1)\n",
    "x_l2 = norm(x, ord=2)\n",
    "print(f'l1 Манхетовская норма вектора x: {x_l1}')\n",
    "print(f'l2 Евклидова норма вектора x: {x_l2}')"
   ]
  },
  {
   "cell_type": "code",
   "execution_count": 6,
   "id": "be0cd857",
   "metadata": {},
   "outputs": [
    {
     "name": "stdout",
     "output_type": "stream",
     "text": [
      "l1 Манхетовская норма вектора y: 19.0\n",
      "l2 Евклидова норма вектора y: 13.0\n"
     ]
    }
   ],
   "source": [
    "y_l1 = norm(y, ord=1)\n",
    "y_l2 = norm(y, ord=2)\n",
    "print(f\"l1 Манхетовская норма вектора y: {y_l1}\")\n",
    "print(f\"l2 Евклидова норма вектора y: {y_l2}\")"
   ]
  },
  {
   "cell_type": "markdown",
   "id": "97909dfd",
   "metadata": {},
   "source": [
    "Найдем угол $\\varphi$ между векторами $x$ и $y$"
   ]
  },
  {
   "cell_type": "markdown",
   "id": "8a8e6708",
   "metadata": {},
   "source": [
    "$$cos\\varphi = \\frac{(x,y)}{\\left \\|x\\right \\|\\cdot\\left \\|y\\right \\|}$$\n",
    "\n",
    "В знаменателе используется Евклидова норма\n",
    "\n",
    "$$cos\\varphi = \\frac{(x,y)}{\\left \\|x\\right \\|\\cdot\\left \\|y\\right \\|} = \\frac{4\\cdot12 + 2\\cdot3 + 4\\cdot 4}{6 \\cdot 13} = \\frac{35}{39}$$\n",
    "\n",
    "$$\\varphi = \\arccos \\frac{35}{39} = 26.176952171666557 °$$"
   ]
  },
  {
   "cell_type": "code",
   "execution_count": 7,
   "id": "4118ac5a",
   "metadata": {},
   "outputs": [
    {
     "name": "stdout",
     "output_type": "stream",
     "text": [
      "Угол между векторами x и y: 0.4568740035326613 рад. или 26.176952171666557°\n"
     ]
    }
   ],
   "source": [
    "cos_phi = np.dot(x, y) / norm(x) / norm(y)\n",
    "t_rad = np.arccos(cos_phi)\n",
    "t_deg = np.rad2deg(t_rad)\n",
    "print(f\"Угол между векторами x и y: {t_rad} рад. или {t_deg}°\")"
   ]
  },
  {
   "cell_type": "markdown",
   "id": "8bd21c0c",
   "metadata": {},
   "source": [
    "---"
   ]
  },
  {
   "cell_type": "markdown",
   "id": "9f57cd14",
   "metadata": {},
   "source": [
    "## Задание 3\n",
    "\n",
    "Будет ли линейное пространство евклидовым, если за скалярное произведение принять:<br>\n",
    "а) произведение длин векторов;<br>\n",
    "б) утроенное обычное скалярное произведение векторов?<br>"
   ]
  },
  {
   "cell_type": "markdown",
   "id": "d4fd7673",
   "metadata": {},
   "source": [
    "___Решение___"
   ]
  },
  {
   "cell_type": "markdown",
   "id": "869518e2",
   "metadata": {},
   "source": [
    "Линейное пространство над полем вещественных чисел называется _евклидовым пространством_, если на нем введено правило, согласно которому каждой упорядоченной паре векторов $x$ и $y$ поставлено в соответствие вещественное число, называемое _скалярным произведением_ и обозначаемое символом $(x, y)$.\n",
    "\n",
    "При этом указанное правило должно подчиняться четырем аксиомам:<br>\n",
    "1) $(x,y)=(y,x);$<br>\n",
    "2) $(\\lambda x, y)=\\lambda(x, y);$<br>\n",
    "3) $(x_{1}+x_{2},y)=(x_{1},y)+(x_{2},y);$<br>\n",
    "4) $(x, x)\\geq0$, причем $(x,x)=0\\Leftrightarrow x=0.$"
   ]
  },
  {
   "cell_type": "markdown",
   "id": "238e61f2",
   "metadata": {},
   "source": [
    "__а)__ Линейное пространство, если за скалярное произведение принять произведение длин векторов, т.е. $(x, y) = |x|\\cdot|y|$\n",
    "\n",
    "Проверим аксиомы:\n",
    "\n",
    "1. $(x,y)= |x|\\cdot|y| = |y|\\cdot|x| = (y,x)$ - верно\n",
    "\n",
    "2. $(\\lambda x, y)=\\lambda(x, y)$ \n",
    "\n",
    "$$(\\lambda x, y)= |\\lambda x|\\cdot|y|$$\n",
    "$$\\lambda(x, y) = \\lambda \\cdot |x|\\cdot|y|$$\n",
    "\n",
    "$$|\\lambda x| \\neq \\lambda \\cdot |x|$$\n",
    "$$|\\lambda x|\\cdot|y| \\neq \\lambda \\cdot |x|\\cdot|y|$$\n",
    "$$(\\lambda x, y) \\neq \\lambda(x, y)$$\n",
    "\n",
    "Правило не подчиняется данной аксиоме"
   ]
  },
  {
   "cell_type": "markdown",
   "id": "d676d8e2",
   "metadata": {},
   "source": [
    "___Ответ:___ Одна из аксиом не выполняется, поэтому пространство не будет евклидовым."
   ]
  },
  {
   "cell_type": "markdown",
   "id": "cab9f43c",
   "metadata": {},
   "source": [
    "__б)__ Линейное пространство, если за скалярное произведение принять утроенное обычное скалярное произведение векторов, т.е. $x=(x_1, ..., x_n)$, $y=(y_1, ..., y_n)$, $(x, y) = 3\\cdot(x_{1}y_{1}+...+x_{n}y_{n})$\n",
    "\n",
    "Проверим аксиомы:\n",
    "\n",
    "1. $(x,y)= 3\\cdot(x_{1}y_{1}+...+x_{n}y_{n}) = 3\\cdot(y_{1}x_{1}+...+y_{n}x_{n}) = (y,x)$ - верно\n",
    "<br>\n",
    "\n",
    "2. $(\\lambda x, y)=\\lambda(x, y)$ - верно\n",
    "\n",
    "$$(\\lambda x, y)= 3\\cdot(\\lambda x_{1} y_{1}+...+\\lambda x_{n}y_{n})$$\n",
    "$$\\lambda(x, y) = 3\\cdot \\lambda \\cdot(x_{1} y_{1}+...+ x_{n}y_{n}) = 3\\cdot(\\lambda x_{1} y_{1}+...+\\lambda x_{n}y_{n})$$\n",
    "<br>\n",
    "\n",
    "3. $(x_{1}+x_{2},y)=(x_{1},y)+(x_{2},y)$\n",
    "    \n",
    "Пусть $$x_1=(a_1, ..., a_n), \\; x_2=(b_1, ..., b_n), \\; y=(y_1, ..., y_n), \\; x_{1}+x_{2} = (a_1 + b_1, ..., a_n + b_n)$$\n",
    "\n",
    "Тогда\n",
    "\n",
    "$(x_{1}+x_{2},y) = 3\\cdot((a_{1}+b_{1})y_{1}+...+(a_{n}+b_{n})y_{n})$\n",
    "\n",
    "$(x_{1},y)+(x_{2},y) = 3\\cdot(a_{1}y_{1}+...+a_{n}y_{n}) + 3\\cdot(b_{1}y_{1}+...+b_{n}y_{n}) = 3\\cdot((a_{1}+b_{1})y_{1}+...+(a_{n}+b_{n})y_{n})$\n",
    "\n",
    "$$\\implies(x_{1}+x_{2},y)=(x_{1},y)+(x_{2},y) - верно$$\n",
    "\n",
    "<br>\n",
    "\n",
    "4. $(x, x)\\geq0$, причем $(x,x)=0\\Leftrightarrow x=0.$\n",
    "\n",
    "$(x,x)= 3\\cdot(x_{1}^{2}+...+x_{n}^{2}) \\geq 0$ - верно т.к. в скобках сумма квадратов и сответственно $(x,x)=0\\Leftrightarrow x=0$ - тоже верно"
   ]
  },
  {
   "cell_type": "markdown",
   "id": "09547f76",
   "metadata": {},
   "source": [
    "___Ответ:___ Так как указанное в задании правило подчиняется всем аксиомам, то линейное пространство считается евклидовым."
   ]
  },
  {
   "cell_type": "markdown",
   "id": "de98eef1",
   "metadata": {},
   "source": [
    "---"
   ]
  },
  {
   "cell_type": "markdown",
   "id": "d47dfa06",
   "metadata": {},
   "source": [
    "## Задание 4\n",
    "\n",
    "Какие из нижеперечисленных векторов образуют ортонормированный базис в линейном пространстве $\\mathbb{R}^{3}$:<br>\n",
    "а) $(1,0,0),(0,0,1);$ <br>\n",
    "б) $(1/\\sqrt{2},-1/\\sqrt{2},0),(1/\\sqrt{2},1/\\sqrt{2},0), (0,0,1);$<br>\n",
    "в) $(1/2, -1/2, 0), (0, 1/2, 1/2), (0,0,1);$<br>\n",
    "г) $(1,0,0),(0,1,0),(0,0,1)?$ "
   ]
  },
  {
   "cell_type": "markdown",
   "id": "1deeebaf",
   "metadata": {},
   "source": [
    "___Решение___"
   ]
  },
  {
   "cell_type": "markdown",
   "id": "1eb95cb7",
   "metadata": {},
   "source": [
    "В линейном пространстве $\\mathbb{R}^{3}$ базис $\\{e_{1},e_{2},e_{3}\\}$ называется ортонормированным, если \n",
    "\n",
    "$(e_{i}, e_{j})=0$ $\\forall$ $i\\neq j$ и $(e_{i},e_{i})=1$ $\\forall$ $i\\in[1, 3]$"
   ]
  },
  {
   "cell_type": "markdown",
   "id": "99a8c3a3",
   "metadata": {},
   "source": [
    "__а)__\n",
    "\n",
    "$(1,0,0),(0,0,1)$ - не образуют ортонормированный базис, т.к. не хватает еще одного (третьего) вектора."
   ]
  },
  {
   "cell_type": "markdown",
   "id": "dca91ceb",
   "metadata": {},
   "source": [
    "__б)__\n",
    "\n",
    "$(1/\\sqrt{2},-1/\\sqrt{2},0),(1/\\sqrt{2},1/\\sqrt{2},0), (0,0,1)$"
   ]
  },
  {
   "cell_type": "code",
   "execution_count": 8,
   "id": "77566335",
   "metadata": {},
   "outputs": [],
   "source": [
    "e_1 = np.array([1/np.sqrt(2), -1/np.sqrt(2), 0])\n",
    "e_2 = np.array([1/np.sqrt(2), 1/np.sqrt(2), 0])\n",
    "e_3 = np.array([0, 0, 1])"
   ]
  },
  {
   "cell_type": "code",
   "execution_count": 9,
   "id": "a51271b2",
   "metadata": {},
   "outputs": [
    {
     "name": "stdout",
     "output_type": "stream",
     "text": [
      "Проверка на единичную длину: \n",
      "e_1: 0.9999999999999998, e_2: 0.9999999999999998, e_3: 1\n"
     ]
    }
   ],
   "source": [
    "print(f\"Проверка на единичную длину: \")\n",
    "print(f\"e_1: {np.dot(e_1, e_1)}, e_2: {np.dot(e_2, e_2)}, e_3: {np.dot(e_3, e_3)}\")"
   ]
  },
  {
   "cell_type": "code",
   "execution_count": 10,
   "id": "4532e10b",
   "metadata": {},
   "outputs": [
    {
     "name": "stdout",
     "output_type": "stream",
     "text": [
      "Проверка перекрестных скалярных произведений: \n",
      "(e_1, e_2): 0.0, (e_1, e_3): 0.0, (e_2, e_3): 0.0\n"
     ]
    }
   ],
   "source": [
    "print(f\"Проверка перекрестных скалярных произведений: \")\n",
    "print(f\"(e_1, e_2): {np.dot(e_1, e_2)}, (e_1, e_3): {np.dot(e_1, e_3)}, (e_2, e_3): {np.dot(e_2, e_3)}\")"
   ]
  },
  {
   "cell_type": "markdown",
   "id": "749acb76",
   "metadata": {},
   "source": [
    "Все условия выполнены, $(1/\\sqrt{2},-1/\\sqrt{2},0),(1/\\sqrt{2},1/\\sqrt{2},0), (0,0,1)$ - ортонормированный базис."
   ]
  },
  {
   "cell_type": "markdown",
   "id": "f5b685e1",
   "metadata": {},
   "source": [
    "__в)__\n",
    "\n",
    "$(1/2, -1/2, 0), (0, 1/2, 1/2), (0,0,1)$"
   ]
  },
  {
   "cell_type": "code",
   "execution_count": 11,
   "id": "ec18791c",
   "metadata": {},
   "outputs": [],
   "source": [
    "e_1 = np.array([0.5, -0.5, 0])\n",
    "e_2 = np.array([0, 0.5, 0.5])\n",
    "e_3 = np.array([0, 0, 1])"
   ]
  },
  {
   "cell_type": "code",
   "execution_count": 12,
   "id": "9d65d6de",
   "metadata": {
    "scrolled": true
   },
   "outputs": [
    {
     "name": "stdout",
     "output_type": "stream",
     "text": [
      "Проверка на единичную длину: \n",
      "e_1: 0.5, e_2: 0.5, e_3: 1\n"
     ]
    }
   ],
   "source": [
    "print(f\"Проверка на единичную длину: \")\n",
    "print(f\"e_1: {np.dot(e_1, e_1)}, e_2: {np.dot(e_2, e_2)}, e_3: {np.dot(e_3, e_3)}\")"
   ]
  },
  {
   "cell_type": "markdown",
   "id": "bbd4437f",
   "metadata": {},
   "source": [
    "Условие $(e_{i},e_{i})=1$ не выполнено, векторы $(1/2, -1/2, 0), (0, 1/2, 1/2), (0,0,1)$ не образуют ортонормированный базис"
   ]
  },
  {
   "cell_type": "markdown",
   "id": "335e5715",
   "metadata": {},
   "source": [
    "__г)__\n",
    "\n",
    "$(1,0,0),(0,1,0),(0,0,1)$"
   ]
  },
  {
   "cell_type": "markdown",
   "id": "24738517",
   "metadata": {},
   "source": [
    "Данные векторы представляют собой декартов прямоугольный базис евклидова пространства $E^{3}$:\n",
    "\n",
    "$$e_{1}=(1,0,0)$$\n",
    "$$e_{2}=(0,1,0)$$\n",
    "$$e_{3}=(0,0,1)$$\n",
    "\n",
    "Соответственно это ортонормированный базис."
   ]
  },
  {
   "cell_type": "markdown",
   "id": "e693ad96",
   "metadata": {},
   "source": [
    "___Ответ:___ Векторы под пунктами $б$, $г$."
   ]
  },
  {
   "cell_type": "markdown",
   "id": "e60f0288",
   "metadata": {},
   "source": [
    "---"
   ]
  }
 ],
 "metadata": {
  "kernelspec": {
   "display_name": "Python 3 (ipykernel)",
   "language": "python",
   "name": "python3"
  },
  "language_info": {
   "codemirror_mode": {
    "name": "ipython",
    "version": 3
   },
   "file_extension": ".py",
   "mimetype": "text/x-python",
   "name": "python",
   "nbconvert_exporter": "python",
   "pygments_lexer": "ipython3",
   "version": "3.8.8"
  }
 },
 "nbformat": 4,
 "nbformat_minor": 5
}
