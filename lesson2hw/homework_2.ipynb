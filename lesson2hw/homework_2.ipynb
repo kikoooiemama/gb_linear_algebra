{
 "cells": [
  {
   "cell_type": "markdown",
   "id": "bb144bb8",
   "metadata": {},
   "source": [
    "# Матрицы и матричные операции. Часть 1"
   ]
  },
  {
   "cell_type": "code",
   "execution_count": 1,
   "id": "3e55daf8",
   "metadata": {},
   "outputs": [],
   "source": [
    "import numpy as np"
   ]
  },
  {
   "cell_type": "markdown",
   "id": "ad369078",
   "metadata": {},
   "source": [
    "## Задание 1\n",
    "\n",
    "Установить, какие произведения матриц $AB$ и $BA$ определены, и найти размерности полученных матриц:\n",
    "\n",
    "   а) $A$ — матрица $4\\times 2$, $B$ — матрица $4\\times 2$;\n",
    "    \n",
    "   б) $A$ — матрица $2\\times 5$, $B$ — матрица $5\\times 3$;\n",
    "    \n",
    "   в) $A$ — матрица $8\\times 3$, $B$ — матрица $3\\times 8$;\n",
    "    \n",
    "   г) $A$ — квадратная матрица $4\\times 4$, $B$ — квадратная матрица $4\\times 4$.\n",
    "    \n"
   ]
  },
  {
   "cell_type": "markdown",
   "id": "746d5c03",
   "metadata": {},
   "source": [
    "___Решение___"
   ]
  },
  {
   "cell_type": "markdown",
   "id": "cfd736dc",
   "metadata": {},
   "source": [
    "а) Произведения матриц __AB__ и __BA__ не определены. $2 \\neq 4$"
   ]
  },
  {
   "cell_type": "markdown",
   "id": "5ecc5028",
   "metadata": {},
   "source": [
    "б) Произведение __AB__ определено, так как $5 = 5$. Произведение __BA__ не определено, т.к. $3 \\neq 2$. Размерность матрицы $C = AB$ — $2\\times 3$"
   ]
  },
  {
   "cell_type": "markdown",
   "id": "6bdcc4a0",
   "metadata": {},
   "source": [
    "в) Произведение __AB__ определено, так как $3 = 3$. Размерность получаемой, таким образом, матрицы $С = AB$ — $8\\times 8$.\n",
    "\n",
    "Произведение __BA__ определено, так как $8=8$. Размерность матрицы $D = BA$ — $3\\times 3$."
   ]
  },
  {
   "cell_type": "markdown",
   "id": "9670e22e",
   "metadata": {},
   "source": [
    "г) Произведение __AB__ и __BA__ определено так как матрицы квадратные размерностью $4\\times 4$.  Размерность матрицы $С = AB$ и $D = BA$ — $4\\times 4$"
   ]
  },
  {
   "cell_type": "markdown",
   "id": "d5d0ed78",
   "metadata": {},
   "source": [
    "---"
   ]
  },
  {
   "cell_type": "markdown",
   "id": "cd79a4f4",
   "metadata": {},
   "source": [
    "## Задание 2\n",
    "\n",
    "Найти сумму и произведение матриц $A=\\begin{pmatrix}\n",
    "1 & -2\\\\ \n",
    "3 & 0\n",
    "\\end{pmatrix}$ и $B=\\begin{pmatrix}\n",
    "4 & -1\\\\ \n",
    "0 & 5\n",
    "\\end{pmatrix}.$\n",
    "\n"
   ]
  },
  {
   "cell_type": "markdown",
   "id": "f5cf1b55",
   "metadata": {},
   "source": [
    "___Решение___"
   ]
  },
  {
   "cell_type": "markdown",
   "id": "054275fb",
   "metadata": {},
   "source": [
    "$$A + B = \n",
    "\\begin{pmatrix}\n",
    "1 & -2 \\\\\n",
    "3 & 0\\\\\n",
    "\\end{pmatrix} + \\begin{pmatrix}\n",
    "4 & -1 \\\\\n",
    "0 & 5\\\\\n",
    "\\end{pmatrix}\n",
    "= \n",
    "\\begin{pmatrix}\n",
    "5 & -3 \\\\\n",
    "3 & 5\\\\\n",
    "\\end{pmatrix}\n",
    "$$"
   ]
  },
  {
   "cell_type": "markdown",
   "id": "3ec41953",
   "metadata": {},
   "source": [
    "$$A \\cdot B = \n",
    "\\begin{pmatrix}\n",
    "1 & -2 \\\\\n",
    "3 & 0\\\\\n",
    "\\end{pmatrix} \\cdot \\begin{pmatrix}\n",
    "4 & -1 \\\\\n",
    "0 & 5\\\\\n",
    "\\end{pmatrix}\n",
    "=\n",
    "\\begin{pmatrix}\n",
    "4 & -11 \\\\\n",
    "12 & -3\\\\\n",
    "\\end{pmatrix}\n",
    "$$"
   ]
  },
  {
   "cell_type": "markdown",
   "id": "0ca08324",
   "metadata": {},
   "source": [
    "$$B \\cdot A = \n",
    "\\begin{pmatrix}\n",
    "4 & -1 \\\\\n",
    "0 & 5\\\\\n",
    "\\end{pmatrix} \\cdot \\begin{pmatrix}\n",
    "1 & -2 \\\\\n",
    "3 & 0\\\\\n",
    "\\end{pmatrix} \\cdot \n",
    "=\n",
    "\\begin{pmatrix}\n",
    "1 & -8 \\\\\n",
    "15 & 0\\\\\n",
    "\\end{pmatrix}\n",
    "$$"
   ]
  },
  {
   "cell_type": "markdown",
   "id": "6449d73d",
   "metadata": {},
   "source": [
    "Проверка:"
   ]
  },
  {
   "cell_type": "code",
   "execution_count": 2,
   "id": "a54e6663",
   "metadata": {},
   "outputs": [],
   "source": [
    "A = np.array([[1, -2],[3, 0]])\n",
    "B = np.array([[4, -1],[0, 5]])"
   ]
  },
  {
   "cell_type": "code",
   "execution_count": 3,
   "id": "fe60f897",
   "metadata": {},
   "outputs": [
    {
     "data": {
      "text/plain": [
       "array([[ 5, -3],\n",
       "       [ 3,  5]])"
      ]
     },
     "execution_count": 3,
     "metadata": {},
     "output_type": "execute_result"
    }
   ],
   "source": [
    "A + B"
   ]
  },
  {
   "cell_type": "code",
   "execution_count": 4,
   "id": "ae0ba194",
   "metadata": {},
   "outputs": [
    {
     "data": {
      "text/plain": [
       "array([[  4, -11],\n",
       "       [ 12,  -3]])"
      ]
     },
     "execution_count": 4,
     "metadata": {},
     "output_type": "execute_result"
    }
   ],
   "source": [
    "A @ B"
   ]
  },
  {
   "cell_type": "code",
   "execution_count": 5,
   "id": "eed81cb1",
   "metadata": {},
   "outputs": [
    {
     "data": {
      "text/plain": [
       "array([[ 1, -8],\n",
       "       [15,  0]])"
      ]
     },
     "execution_count": 5,
     "metadata": {},
     "output_type": "execute_result"
    }
   ],
   "source": [
    "B @ A"
   ]
  },
  {
   "cell_type": "markdown",
   "id": "e6726a9e",
   "metadata": {},
   "source": [
    "---"
   ]
  },
  {
   "cell_type": "markdown",
   "id": "9044ce3f",
   "metadata": {},
   "source": [
    "## Задание 3\n",
    "\n",
    "Из закономерностей сложения и умножения матриц на число можно сделать вывод, что матрицы одного размера образуют линейное пространство. Вычислить линейную комбинацию $3A-2B+4C$ для матриц $A=\\begin{pmatrix}\n",
    "1 & 7\\\\ \n",
    "3 & -6\n",
    "\\end{pmatrix}$, $B=\\begin{pmatrix}\n",
    "0 & 5\\\\ \n",
    "2 & -1\n",
    "\\end{pmatrix}$, $C=\\begin{pmatrix}\n",
    "2 & -4\\\\ \n",
    "1 & 1\n",
    "\\end{pmatrix}$"
   ]
  },
  {
   "cell_type": "markdown",
   "id": "e0b2568e",
   "metadata": {},
   "source": [
    "___Решение___"
   ]
  },
  {
   "cell_type": "markdown",
   "id": "f68dd06f",
   "metadata": {},
   "source": [
    "$$3A-2B+4C = 3 \\cdot\n",
    "\\begin{pmatrix}\n",
    "1 & 7 \\\\\n",
    "3 & -6\\\\\n",
    "\\end{pmatrix} - 2 \\cdot \\begin{pmatrix}\n",
    "0 & 5 \\\\\n",
    "2 & -1 \\\\\n",
    "\\end{pmatrix} + 4 \\cdot \\begin{pmatrix}\n",
    "2 & -4\\\\\n",
    "1 & 1\\\\\n",
    "\\end{pmatrix} =\n",
    "$$"
   ]
  },
  {
   "cell_type": "markdown",
   "id": "e8789e5a",
   "metadata": {},
   "source": [
    "$$ = \n",
    "\\begin{pmatrix}\n",
    "3 & 21\\\\\n",
    "9 & -18\\\\\n",
    "\\end{pmatrix} + \\begin{pmatrix}\n",
    "0 & -10\\\\\n",
    "-4 & 2\\\\\n",
    "\\end{pmatrix} + \\begin{pmatrix}\n",
    "8 & -16\\\\\n",
    "4 & 4\\\\\n",
    "\\end{pmatrix} = \n",
    "$$"
   ]
  },
  {
   "cell_type": "markdown",
   "id": "daf433de",
   "metadata": {},
   "source": [
    "$$ = \\begin{pmatrix}\n",
    "3 & 11\\\\\n",
    "5 & -16\\\\\n",
    "\\end{pmatrix} +\n",
    "\\begin{pmatrix}\n",
    "8 & -16\\\\\n",
    "4 & 4\\\\\n",
    "\\end{pmatrix} = \\begin{pmatrix}\n",
    "11 & -5\\\\\n",
    "9 & -12\\\\\n",
    "\\end{pmatrix} \n",
    "$$"
   ]
  },
  {
   "cell_type": "markdown",
   "id": "234113ba",
   "metadata": {},
   "source": [
    "Проверка:"
   ]
  },
  {
   "cell_type": "code",
   "execution_count": 6,
   "id": "5fa8c184",
   "metadata": {},
   "outputs": [
    {
     "data": {
      "text/plain": [
       "array([[ 11,  -5],\n",
       "       [  9, -12]])"
      ]
     },
     "execution_count": 6,
     "metadata": {},
     "output_type": "execute_result"
    }
   ],
   "source": [
    "A = np.array([[1, 7], [3, -6]])\n",
    "B = np.array([[0, 5], [2, -1]])\n",
    "C = np.array([[2, -4], [1, 1]])\n",
    "\n",
    "3*A - 2*B + 4*C"
   ]
  },
  {
   "cell_type": "markdown",
   "id": "45ed177d",
   "metadata": {},
   "source": [
    "---"
   ]
  },
  {
   "cell_type": "markdown",
   "id": "27fcad25",
   "metadata": {},
   "source": [
    "## Задание 4\n",
    "\n",
    "Дана матрица $A=\\begin{pmatrix}\n",
    "4 & 1\\\\ \n",
    "5 & -2\\\\ \n",
    "2 & 3\n",
    "\\end{pmatrix}$.\n",
    "Вычислить $AA^{T}$ и $A^{T}A$."
   ]
  },
  {
   "cell_type": "markdown",
   "id": "ef955c83",
   "metadata": {},
   "source": [
    "___Решение___"
   ]
  },
  {
   "cell_type": "markdown",
   "id": "5c22b782",
   "metadata": {},
   "source": [
    "$$A=\\begin{pmatrix}\n",
    "4 & 1\\\\ \n",
    "5 & -2\\\\ \n",
    "2 & 3\n",
    "\\end{pmatrix}, \\;\\;\n",
    "A^{T} = \\begin{pmatrix}\n",
    "4 & 5 & 2\\\\\n",
    "1 & -2 & 3\\\\\n",
    "\\end{pmatrix}$$"
   ]
  },
  {
   "cell_type": "markdown",
   "id": "60c718a6",
   "metadata": {},
   "source": [
    "$$AA^{T} = \\begin{pmatrix}\n",
    "4 & 1\\\\ \n",
    "5 & -2\\\\ \n",
    "2 & 3\\\\\n",
    "\\end{pmatrix} \\cdot \\begin{pmatrix}\n",
    "4 & 5 & 2\\\\\n",
    "1 & -2 & 3\\\\\n",
    "\\end{pmatrix} = \\begin{pmatrix}\n",
    "17 & 18 & 11\\\\\n",
    "18 & 29 & 4\\\\\n",
    "11 & 4 & 13\\\\\n",
    "\\end{pmatrix}\n",
    "$$"
   ]
  },
  {
   "cell_type": "markdown",
   "id": "0547de19",
   "metadata": {},
   "source": [
    "$$A^{T} = \\begin{pmatrix}\n",
    "4 & 5 & 2 \\\\\n",
    "1 & -2 & 3 \\\\\n",
    "\\end{pmatrix} \\cdot \\begin{pmatrix}\n",
    "4 & 1 \\\\ \n",
    "5 & -2 \\\\ \n",
    "2 & 3 \\\\\n",
    "\\end{pmatrix} = \\begin{pmatrix}\n",
    "45 & 0\\\\ \n",
    "0 & 14 \\\\\n",
    "\\end{pmatrix}\n",
    "$$"
   ]
  },
  {
   "cell_type": "markdown",
   "id": "8f430535",
   "metadata": {},
   "source": [
    "Проверка:"
   ]
  },
  {
   "cell_type": "code",
   "execution_count": 7,
   "id": "42bc2a59",
   "metadata": {},
   "outputs": [],
   "source": [
    "A = np.array([[4, 1], [5, -2], [2, 3]])\n",
    "A_T = A.T"
   ]
  },
  {
   "cell_type": "code",
   "execution_count": 8,
   "id": "d71450b0",
   "metadata": {},
   "outputs": [
    {
     "data": {
      "text/plain": [
       "array([[17, 18, 11],\n",
       "       [18, 29,  4],\n",
       "       [11,  4, 13]])"
      ]
     },
     "execution_count": 8,
     "metadata": {},
     "output_type": "execute_result"
    }
   ],
   "source": [
    "A @ A_T"
   ]
  },
  {
   "cell_type": "code",
   "execution_count": 9,
   "id": "2006935c",
   "metadata": {},
   "outputs": [
    {
     "data": {
      "text/plain": [
       "array([[45,  0],\n",
       "       [ 0, 14]])"
      ]
     },
     "execution_count": 9,
     "metadata": {},
     "output_type": "execute_result"
    }
   ],
   "source": [
    "A_T @ A"
   ]
  },
  {
   "cell_type": "markdown",
   "id": "5ee9bcb3",
   "metadata": {},
   "source": [
    "---"
   ]
  },
  {
   "cell_type": "markdown",
   "id": "6bc1c49c",
   "metadata": {},
   "source": [
    "## Задание 5*\n",
    "\n",
    "Написать на Python функцию для перемножения двух произвольных матриц, не используя NumPy."
   ]
  },
  {
   "cell_type": "markdown",
   "id": "d7ea5cec",
   "metadata": {},
   "source": [
    "___Решение___"
   ]
  },
  {
   "cell_type": "code",
   "execution_count": 10,
   "id": "454549fc",
   "metadata": {
    "scrolled": true
   },
   "outputs": [],
   "source": [
    "def matrix_multiplication(A, B):\n",
    "    '''\n",
    "    The function of multiplying matrix A by matrix B. If the multiplication condition is not met, an error will be generated.\n",
    "    '''\n",
    "    # shape\n",
    "    ncols = len(A[0])\n",
    "    nrows = len(A)\n",
    "    a_shape = (nrows, ncols)\n",
    "    ncols = len(B[0])\n",
    "    nrows = len(B)\n",
    "    b_shape = (nrows, ncols)\n",
    "    l = a_shape[0]\n",
    "    m = a_shape[1]\n",
    "    n = b_shape[1]\n",
    "    # check\n",
    "    if b_shape[0] != a_shape[1]:\n",
    "        print(f\"Shapes {a_shape} and {b_shape} not aligned: {a_shape[1]} (dim 1) != {b_shape[0]} (dim 0)\")\n",
    "        return\n",
    "    else:\n",
    "        # check n columns in every row\n",
    "        ncols_wrong_idx = [i for i in range(a_shape[0]) if len(A[i]) != a_shape[1]]\n",
    "        if len(ncols_wrong_idx) != 0:\n",
    "            print(f\"Matrix A is set incorrectly! Check the elements of matrix A on the rows: {ncols_wrong_idx}\")\n",
    "            return\n",
    "        \n",
    "        ncols_wrong_idx = [i for i in range(b_shape[0]) if len(B[i]) != b_shape[1]]\n",
    "        if len(ncols_wrong_idx) != 0:\n",
    "            print(f\"Matrix B is set incorrectly! Check the elements of matrix B on the rows: {ncols_wrong_idx}\")\n",
    "            return\n",
    "    \n",
    "    # calculate, after check\n",
    "    result_matrix = []\n",
    "    for i in range(l):\n",
    "        row = []\n",
    "        for j in range(n):\n",
    "            el = sum(list([A[i][r] * B[r][j] for r in range(m)]))\n",
    "            row.append(el)\n",
    "        result_matrix.append(row)\n",
    "    return result_matrix\n",
    "    "
   ]
  },
  {
   "cell_type": "markdown",
   "id": "d311ca60",
   "metadata": {},
   "source": [
    "Проверка:"
   ]
  },
  {
   "cell_type": "code",
   "execution_count": 11,
   "id": "dcb77f67",
   "metadata": {},
   "outputs": [],
   "source": [
    "A = [[3, 5, 7,], [2, 5, 8], [-2, 4, -12], [0, 33, 11]]\n",
    "B = [[9, 16, -2, 11, 1], [-3, -7, 17, 9, -14], [-13, 5, -3, 4, -12]]"
   ]
  },
  {
   "cell_type": "code",
   "execution_count": 12,
   "id": "692f9323",
   "metadata": {},
   "outputs": [
    {
     "data": {
      "text/plain": [
       "[[-79, 48, 58, 106, -151],\n",
       " [-101, 37, 57, 99, -164],\n",
       " [126, -120, 108, -34, 86],\n",
       " [-242, -176, 528, 341, -594]]"
      ]
     },
     "execution_count": 12,
     "metadata": {},
     "output_type": "execute_result"
    }
   ],
   "source": [
    "res = matrix_multiplication(A, B)\n",
    "res"
   ]
  },
  {
   "cell_type": "code",
   "execution_count": 13,
   "id": "e5b3c246",
   "metadata": {},
   "outputs": [
    {
     "data": {
      "text/plain": [
       "array([[ -79,   48,   58,  106, -151],\n",
       "       [-101,   37,   57,   99, -164],\n",
       "       [ 126, -120,  108,  -34,   86],\n",
       "       [-242, -176,  528,  341, -594]])"
      ]
     },
     "execution_count": 13,
     "metadata": {},
     "output_type": "execute_result"
    }
   ],
   "source": [
    "np.array(res)"
   ]
  },
  {
   "cell_type": "code",
   "execution_count": 14,
   "id": "f2475958",
   "metadata": {},
   "outputs": [
    {
     "data": {
      "text/plain": [
       "array([[ -79,   48,   58,  106, -151],\n",
       "       [-101,   37,   57,   99, -164],\n",
       "       [ 126, -120,  108,  -34,   86],\n",
       "       [-242, -176,  528,  341, -594]])"
      ]
     },
     "execution_count": 14,
     "metadata": {},
     "output_type": "execute_result"
    }
   ],
   "source": [
    "np.dot(A, B)"
   ]
  },
  {
   "cell_type": "markdown",
   "id": "2ca62fb7",
   "metadata": {},
   "source": [
    "---"
   ]
  },
  {
   "cell_type": "markdown",
   "id": "c74f40b9",
   "metadata": {},
   "source": [
    "# Матрицы и матричные операции. Часть 2"
   ]
  },
  {
   "cell_type": "markdown",
   "id": "f3ef8444",
   "metadata": {},
   "source": [
    "## Задание 1\n",
    "\n",
    "__1.__ Вычислить определитель:\n",
    "\n",
    "   a)\n",
    "\n",
    "$$\\begin{vmatrix}\n",
    "sinx & -cosx\\\\ \n",
    "cosx & sinx\n",
    "\\end{vmatrix};$$\n",
    "\n",
    "   б)\n",
    "    \n",
    "$$\\begin{vmatrix}\n",
    "4 & 2 & 3\\\\ \n",
    "0 & 5 & 1\\\\ \n",
    "0 & 0 & 9\n",
    "\\end{vmatrix};$$\n",
    "    \n",
    "   в)\n",
    "\n",
    "$$\\begin{vmatrix}\n",
    "1 & 2 & 3\\\\ \n",
    "4 & 5 & 6\\\\ \n",
    "7 & 8 & 9\n",
    "\\end{vmatrix}.$$"
   ]
  },
  {
   "cell_type": "markdown",
   "id": "a2627056",
   "metadata": {},
   "source": [
    "___Решение___"
   ]
  },
  {
   "cell_type": "markdown",
   "id": "8f8abb96",
   "metadata": {},
   "source": [
    "а) \n",
    "\n",
    "$$\\begin{vmatrix}\n",
    "sinx & -cosx\\\\ \n",
    "cosx & sinx\n",
    "\\end{vmatrix} \n",
    "= \\sin{x}^{2} + \\cos{x}^{2} = 1$$"
   ]
  },
  {
   "cell_type": "markdown",
   "id": "577a972f",
   "metadata": {},
   "source": [
    "б) \n",
    "\n",
    "$$\\begin{vmatrix}\n",
    "4 & 2 & 3\\\\ \n",
    "0 & 5 & 1\\\\ \n",
    "0 & 0 & 9\n",
    "\\end{vmatrix} = 4\\cdot 5\\cdot 9 = 180$$"
   ]
  },
  {
   "cell_type": "code",
   "execution_count": 15,
   "id": "b1d1aae9",
   "metadata": {},
   "outputs": [
    {
     "data": {
      "text/plain": [
       "180.0"
      ]
     },
     "execution_count": 15,
     "metadata": {},
     "output_type": "execute_result"
    }
   ],
   "source": [
    "B = np.array([[4,2,3],[0,5,1],[0,0,9]])\n",
    "np.linalg.det(B)"
   ]
  },
  {
   "cell_type": "markdown",
   "id": "43a9b3de",
   "metadata": {},
   "source": [
    "в) $$\\begin{vmatrix}\n",
    "1 & 2 & 3\\\\ \n",
    "4 & 5 & 6\\\\ \n",
    "7 & 8 & 9\n",
    "\\end{vmatrix} = \\begin{vmatrix}\n",
    "1 & 2 & 3\\\\ \n",
    "2 & 1 & 0\\\\ \n",
    "4 & 2 & 0\n",
    "\\end{vmatrix} = \\begin{vmatrix}\n",
    "1 & 2 & 3\\\\ \n",
    "2 & 1 & 0\\\\ \n",
    "0 & 0 & 0\n",
    "\\end{vmatrix} = 0\n",
    "$$"
   ]
  },
  {
   "cell_type": "code",
   "execution_count": 16,
   "id": "386ae2ed",
   "metadata": {},
   "outputs": [
    {
     "data": {
      "text/plain": [
       "0.0"
      ]
     },
     "execution_count": 16,
     "metadata": {},
     "output_type": "execute_result"
    }
   ],
   "source": [
    "C = np.array([[1, 2, 3], [4, 5, 6], [7, 8, 9]])\n",
    "np.round(np.linalg.det(C), 8)"
   ]
  },
  {
   "cell_type": "markdown",
   "id": "cb6ef1b4",
   "metadata": {},
   "source": [
    "---"
   ]
  },
  {
   "cell_type": "markdown",
   "id": "250a033b",
   "metadata": {},
   "source": [
    "## Задание 2\n",
    "\n",
    "Определитель матрицы $A$ равен $4$. Найти:\n",
    "\n",
    "   а) $det(A^{2})$;\n",
    "    \n",
    "   б) $det(A^{T})$;\n",
    "    \n",
    "   в) $det(2A)$."
   ]
  },
  {
   "cell_type": "markdown",
   "id": "f0e670a0",
   "metadata": {},
   "source": [
    "___Решение___"
   ]
  },
  {
   "cell_type": "markdown",
   "id": "3af6a890",
   "metadata": {},
   "source": [
    "$$det(A) = 4$$"
   ]
  },
  {
   "cell_type": "markdown",
   "id": "b3aa9e55",
   "metadata": {},
   "source": [
    "а) $det(A^{2})$ — ?\n",
    "\n",
    "Воспользуемся свойствами определителей, а именно: $det(AB)=detA\\cdot detB$\n",
    "\n",
    "$$det(A^{2}) = det(A\\cdot A) = det(A)\\cdot det(A) = 4\\cdot 4 = 16$$"
   ]
  },
  {
   "cell_type": "markdown",
   "id": "f3478dfe",
   "metadata": {},
   "source": [
    "б) $det(A^{T})$ — ?\n",
    "\n",
    "Определитель транспонированной матрицы равен определителю исходной:\n",
    "\n",
    "$$detA^{T}=detA=4$$"
   ]
  },
  {
   "cell_type": "markdown",
   "id": "4559cea6",
   "metadata": {},
   "source": [
    "в) $det(2A)$ — ?\n",
    "\n",
    "Зная свойства определителей, знаем, что умножение одной строки или столбца матрицы на число $\\lambda$ приведет к умножению определителя матрицы на то же число. \n",
    "\n",
    "Пусть матрица $A$ имеет размерность $n\\times n$, т.е. $n$ - строк, $n$ - столбцов.\n",
    "\n",
    "Матрица $2A$ означает, что каждую строку умножили на $2$. Таким образом, в соответствие со свойством, определитель матрицы должен измениться в $2^{n}$, так как в нашем случае умножилась не одна строка, а сразу $n$ строк.\n",
    "\n",
    "$$det(\\lambda\\cdot A) = det(A)\\cdot \\lambda^{n}$$\n",
    "\n",
    "Поскольку в задании не указана размерность матрицы, а дано лишь значение ее определителя, то:\n",
    "\n",
    "$$det(2A) = det(A)\\cdot 2^{n} = 4 \\cdot 2^{n} = 2^{n+2},$$\n",
    "\n",
    "где $n$ - размерность квадратной матрицы $A$"
   ]
  },
  {
   "cell_type": "markdown",
   "id": "d1128f75",
   "metadata": {},
   "source": [
    "---"
   ]
  },
  {
   "cell_type": "markdown",
   "id": "f67bd74c",
   "metadata": {},
   "source": [
    "## Задание 3\n",
    "\n",
    "Доказать, что матрица\n",
    "\n",
    "$$\\begin{pmatrix}\n",
    "-2 & 7 & -3\\\\ \n",
    "4 & -14 & 6\\\\ \n",
    "-3 & 7 & 13\n",
    "\\end{pmatrix}$$\n",
    "   \n",
    "вырожденная.\n"
   ]
  },
  {
   "cell_type": "markdown",
   "id": "b922554b",
   "metadata": {},
   "source": [
    "___Решение___"
   ]
  },
  {
   "cell_type": "markdown",
   "id": "25ca2bbe",
   "metadata": {},
   "source": [
    "Матрица называется _сингулярной_, или _вырожденной_, если ее определитель равен нулю. Найдем определитель.\n",
    "\n",
    "Прибавим ко второй строке первую, умноженную на $2$\n",
    "\n",
    "$$ det \\begin{pmatrix}\n",
    "-2 & 7 & -3\\\\ \n",
    "4 & -14 & 6\\\\ \n",
    "-3 & 7 & 13\n",
    "\\end{pmatrix} = \\begin{vmatrix}\n",
    "-2 & 7 & -3\\\\ \n",
    "4 & -14 & 6\\\\ \n",
    "-3 & 7 & 13\n",
    "\\end{vmatrix} = \\begin{vmatrix}\n",
    "-2 & 7 & -3\\\\ \n",
    "0 & 0 & 0\\\\ \n",
    "-3 & 7 & 13\n",
    "\\end{vmatrix} = 0\n",
    "$$\n",
    "\n",
    "Определитель данной матрицы равен нулю, соответсвенно матрица вырожденная."
   ]
  },
  {
   "cell_type": "markdown",
   "id": "5b9086de",
   "metadata": {},
   "source": [
    "---"
   ]
  },
  {
   "cell_type": "markdown",
   "id": "26e8761f",
   "metadata": {},
   "source": [
    "## Задание 4\n",
    "\n",
    "Найти ранг матрицы:\n",
    "\n",
    "   а) $\\begin{pmatrix}\n",
    "1 & 2 & 3\\\\ \n",
    "1 & 1 & 1\\\\ \n",
    "2 & 3 & 4\n",
    "\\end{pmatrix}$\n",
    "\n",
    "   б) $\\begin{pmatrix}\n",
    "0 & 0 & 2 & 1\\\\ \n",
    "0 & 0 & 2 & 2\\\\ \n",
    "0 & 0 & 4 & 3\\\\ \n",
    "2 & 3 & 5 & 6\n",
    "\\end{pmatrix}$"
   ]
  },
  {
   "cell_type": "markdown",
   "id": "12cdf207",
   "metadata": {},
   "source": [
    "___Решение___"
   ]
  },
  {
   "cell_type": "markdown",
   "id": "3e14a80c",
   "metadata": {},
   "source": [
    "а) Найдем ранг матрицы\n",
    "\n",
    "$$\\begin{pmatrix}\n",
    "1 & 2 & 3\\\\ \n",
    "1 & 1 & 1\\\\ \n",
    "2 & 3 & 4\n",
    "\\end{pmatrix}$$"
   ]
  },
  {
   "cell_type": "markdown",
   "id": "a38daa40",
   "metadata": {},
   "source": [
    "Третья строка является суммой второй и первой строк, а значит, ее можно отбросить:\n",
    "\n",
    "$$\\begin{pmatrix}\n",
    "1 & 2 & 3\\\\ \n",
    "1 & 1 & 1\\\\ \n",
    "\\end{pmatrix}$$"
   ]
  },
  {
   "cell_type": "markdown",
   "id": "d3aede68",
   "metadata": {},
   "source": [
    "Из второй строки вычтем первую:\n",
    "\n",
    "$$\\begin{pmatrix}\n",
    "1 & 2 & 3\\\\ \n",
    "0 & -1 & -2\\\\ \n",
    "\\end{pmatrix}$$"
   ]
  },
  {
   "cell_type": "markdown",
   "id": "662f6f37",
   "metadata": {},
   "source": [
    "Таким образом, ранг матрицы равен $2$."
   ]
  },
  {
   "cell_type": "code",
   "execution_count": 17,
   "id": "fa14eddc",
   "metadata": {},
   "outputs": [
    {
     "data": {
      "text/plain": [
       "2"
      ]
     },
     "execution_count": 17,
     "metadata": {},
     "output_type": "execute_result"
    }
   ],
   "source": [
    "A = np.array([[1, 2, 3], [1, 1, 1], [2, 3, 4]])\n",
    "np.linalg.matrix_rank(A)"
   ]
  },
  {
   "cell_type": "markdown",
   "id": "ed9ae710",
   "metadata": {},
   "source": [
    "б) Найдем ранг матрицы\n",
    "\n",
    "$$\\begin{pmatrix}\n",
    "0 & 0 & 2 & 1\\\\ \n",
    "0 & 0 & 2 & 2\\\\ \n",
    "0 & 0 & 4 & 3\\\\ \n",
    "2 & 3 & 5 & 6\n",
    "\\end{pmatrix}$$"
   ]
  },
  {
   "cell_type": "markdown",
   "id": "f812842a",
   "metadata": {},
   "source": [
    "Третья строка является суммой второй и первой строк, а значит, ее можно отбросить:\n",
    "\n",
    "$$\\begin{pmatrix}\n",
    "0 & 0 & 2 & 1\\\\ \n",
    "0 & 0 & 2 & 2\\\\  \n",
    "2 & 3 & 5 & 6\n",
    "\\end{pmatrix}$$"
   ]
  },
  {
   "cell_type": "markdown",
   "id": "5833441b",
   "metadata": {},
   "source": [
    "Вычтем из первой строки вторую:\n",
    "$$\\begin{pmatrix}\n",
    "0 & 0 & 0 & -1\\\\ \n",
    "0 & 0 & 2 & 2\\\\  \n",
    "2 & 3 & 5 & 6\n",
    "\\end{pmatrix}$$"
   ]
  },
  {
   "cell_type": "markdown",
   "id": "53ef1abe",
   "metadata": {},
   "source": [
    "Таким образом, ранг матрицы равен $3$."
   ]
  },
  {
   "cell_type": "code",
   "execution_count": 18,
   "id": "dd474590",
   "metadata": {},
   "outputs": [
    {
     "data": {
      "text/plain": [
       "3"
      ]
     },
     "execution_count": 18,
     "metadata": {},
     "output_type": "execute_result"
    }
   ],
   "source": [
    "B = np.array([[0, 0, 2, 1], [0, 0, 2, 2], [0, 0, 4, 3], [2, 3, 5, 6]])\n",
    "np.linalg.matrix_rank(B)"
   ]
  },
  {
   "cell_type": "markdown",
   "id": "5a95c417",
   "metadata": {},
   "source": [
    "---"
   ]
  }
 ],
 "metadata": {
  "kernelspec": {
   "display_name": "Python 3 (ipykernel)",
   "language": "python",
   "name": "python3"
  },
  "language_info": {
   "codemirror_mode": {
    "name": "ipython",
    "version": 3
   },
   "file_extension": ".py",
   "mimetype": "text/x-python",
   "name": "python",
   "nbconvert_exporter": "python",
   "pygments_lexer": "ipython3",
   "version": "3.8.8"
  }
 },
 "nbformat": 4,
 "nbformat_minor": 5
}
